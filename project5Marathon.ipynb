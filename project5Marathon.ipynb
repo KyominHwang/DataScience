{
 "cells": [
  {
   "cell_type": "code",
   "execution_count": 201,
   "metadata": {},
   "outputs": [],
   "source": [
    "import pandas as pd\n",
    "import numpy as np\n",
    "import tensorflow as tf"
   ]
  },
  {
   "cell_type": "code",
   "execution_count": 202,
   "metadata": {},
   "outputs": [
    {
     "data": {
      "text/html": [
       "<div>\n",
       "<style scoped>\n",
       "    .dataframe tbody tr th:only-of-type {\n",
       "        vertical-align: middle;\n",
       "    }\n",
       "\n",
       "    .dataframe tbody tr th {\n",
       "        vertical-align: top;\n",
       "    }\n",
       "\n",
       "    .dataframe thead th {\n",
       "        text-align: right;\n",
       "    }\n",
       "</style>\n",
       "<table border=\"1\" class=\"dataframe\">\n",
       "  <thead>\n",
       "    <tr style=\"text-align: right;\">\n",
       "      <th></th>\n",
       "      <th>M/F</th>\n",
       "      <th>Age</th>\n",
       "      <th>Pace</th>\n",
       "      <th>Official Time</th>\n",
       "      <th>Year</th>\n",
       "      <th>qualifying</th>\n",
       "    </tr>\n",
       "  </thead>\n",
       "  <tbody>\n",
       "    <tr>\n",
       "      <th>0</th>\n",
       "      <td>1</td>\n",
       "      <td>25</td>\n",
       "      <td>296</td>\n",
       "      <td>7757</td>\n",
       "      <td>2015</td>\n",
       "      <td>1</td>\n",
       "    </tr>\n",
       "    <tr>\n",
       "      <th>1</th>\n",
       "      <td>1</td>\n",
       "      <td>30</td>\n",
       "      <td>298</td>\n",
       "      <td>7788</td>\n",
       "      <td>2015</td>\n",
       "      <td>1</td>\n",
       "    </tr>\n",
       "    <tr>\n",
       "      <th>2</th>\n",
       "      <td>1</td>\n",
       "      <td>29</td>\n",
       "      <td>299</td>\n",
       "      <td>7822</td>\n",
       "      <td>2015</td>\n",
       "      <td>1</td>\n",
       "    </tr>\n",
       "    <tr>\n",
       "      <th>3</th>\n",
       "      <td>1</td>\n",
       "      <td>28</td>\n",
       "      <td>300</td>\n",
       "      <td>7847</td>\n",
       "      <td>2015</td>\n",
       "      <td>1</td>\n",
       "    </tr>\n",
       "    <tr>\n",
       "      <th>4</th>\n",
       "      <td>1</td>\n",
       "      <td>32</td>\n",
       "      <td>300</td>\n",
       "      <td>7849</td>\n",
       "      <td>2015</td>\n",
       "      <td>1</td>\n",
       "    </tr>\n",
       "  </tbody>\n",
       "</table>\n",
       "</div>"
      ],
      "text/plain": [
       "   M/F  Age  Pace  Official Time  Year  qualifying\n",
       "0    1   25   296           7757  2015           1\n",
       "1    1   30   298           7788  2015           1\n",
       "2    1   29   299           7822  2015           1\n",
       "3    1   28   300           7847  2015           1\n",
       "4    1   32   300           7849  2015           1"
      ]
     },
     "execution_count": 202,
     "metadata": {},
     "output_type": "execute_result"
    }
   ],
   "source": [
    "data = pd.read_csv(\"marathon/marathon_2015_2017_qualifying.csv\")\n",
    "data.head()"
   ]
  },
  {
   "cell_type": "code",
   "execution_count": 203,
   "metadata": {},
   "outputs": [],
   "source": [
    "data[\"Grade\"] = 0"
   ]
  },
  {
   "cell_type": "code",
   "execution_count": 204,
   "metadata": {},
   "outputs": [
    {
     "data": {
      "text/plain": [
       "count    79638.000000\n",
       "mean     13989.929167\n",
       "std       2492.272069\n",
       "min       7757.000000\n",
       "25%      12258.000000\n",
       "50%      13592.000000\n",
       "75%      15325.000000\n",
       "max      37823.000000\n",
       "Name: Official Time, dtype: float64"
      ]
     },
     "execution_count": 204,
     "metadata": {},
     "output_type": "execute_result"
    }
   ],
   "source": [
    "data[\"Official Time\"].describe()"
   ]
  },
  {
   "cell_type": "code",
   "execution_count": 205,
   "metadata": {},
   "outputs": [
    {
     "data": {
      "text/plain": [
       "1    59727\n",
       "0    19911\n",
       "Name: Grade, dtype: int64"
      ]
     },
     "execution_count": 205,
     "metadata": {},
     "output_type": "execute_result"
    }
   ],
   "source": [
    "data.loc[data[\"Official Time\"] < 15325, \"Grade\"] = 1\n",
    "data[\"Grade\"].value_counts()"
   ]
  },
  {
   "cell_type": "code",
   "execution_count": 206,
   "metadata": {},
   "outputs": [
    {
     "data": {
      "text/plain": [
       "2    39814\n",
       "1    19913\n",
       "0    19911\n",
       "Name: Grade, dtype: int64"
      ]
     },
     "execution_count": 206,
     "metadata": {},
     "output_type": "execute_result"
    }
   ],
   "source": [
    "data.loc[data[\"Official Time\"] < 13592, \"Grade\"] = 2\n",
    "data[\"Grade\"].value_counts()"
   ]
  },
  {
   "cell_type": "code",
   "execution_count": 207,
   "metadata": {},
   "outputs": [
    {
     "data": {
      "text/html": [
       "<div>\n",
       "<style scoped>\n",
       "    .dataframe tbody tr th:only-of-type {\n",
       "        vertical-align: middle;\n",
       "    }\n",
       "\n",
       "    .dataframe tbody tr th {\n",
       "        vertical-align: top;\n",
       "    }\n",
       "\n",
       "    .dataframe thead th {\n",
       "        text-align: right;\n",
       "    }\n",
       "</style>\n",
       "<table border=\"1\" class=\"dataframe\">\n",
       "  <thead>\n",
       "    <tr style=\"text-align: right;\">\n",
       "      <th></th>\n",
       "      <th>M/F</th>\n",
       "      <th>Age</th>\n",
       "      <th>Pace</th>\n",
       "      <th>Official Time</th>\n",
       "      <th>Year</th>\n",
       "      <th>qualifying</th>\n",
       "      <th>Grade</th>\n",
       "    </tr>\n",
       "  </thead>\n",
       "  <tbody>\n",
       "    <tr>\n",
       "      <th>0</th>\n",
       "      <td>1</td>\n",
       "      <td>25</td>\n",
       "      <td>296</td>\n",
       "      <td>7757</td>\n",
       "      <td>2015</td>\n",
       "      <td>1</td>\n",
       "      <td>2</td>\n",
       "    </tr>\n",
       "    <tr>\n",
       "      <th>1</th>\n",
       "      <td>1</td>\n",
       "      <td>30</td>\n",
       "      <td>298</td>\n",
       "      <td>7788</td>\n",
       "      <td>2015</td>\n",
       "      <td>1</td>\n",
       "      <td>2</td>\n",
       "    </tr>\n",
       "    <tr>\n",
       "      <th>2</th>\n",
       "      <td>1</td>\n",
       "      <td>29</td>\n",
       "      <td>299</td>\n",
       "      <td>7822</td>\n",
       "      <td>2015</td>\n",
       "      <td>1</td>\n",
       "      <td>2</td>\n",
       "    </tr>\n",
       "    <tr>\n",
       "      <th>3</th>\n",
       "      <td>1</td>\n",
       "      <td>28</td>\n",
       "      <td>300</td>\n",
       "      <td>7847</td>\n",
       "      <td>2015</td>\n",
       "      <td>1</td>\n",
       "      <td>2</td>\n",
       "    </tr>\n",
       "    <tr>\n",
       "      <th>4</th>\n",
       "      <td>1</td>\n",
       "      <td>32</td>\n",
       "      <td>300</td>\n",
       "      <td>7849</td>\n",
       "      <td>2015</td>\n",
       "      <td>1</td>\n",
       "      <td>2</td>\n",
       "    </tr>\n",
       "  </tbody>\n",
       "</table>\n",
       "</div>"
      ],
      "text/plain": [
       "   M/F  Age  Pace  Official Time  Year  qualifying  Grade\n",
       "0    1   25   296           7757  2015           1      2\n",
       "1    1   30   298           7788  2015           1      2\n",
       "2    1   29   299           7822  2015           1      2\n",
       "3    1   28   300           7847  2015           1      2\n",
       "4    1   32   300           7849  2015           1      2"
      ]
     },
     "execution_count": 207,
     "metadata": {},
     "output_type": "execute_result"
    }
   ],
   "source": [
    "data.head()"
   ]
  },
  {
   "cell_type": "code",
   "execution_count": 208,
   "metadata": {},
   "outputs": [],
   "source": [
    "train = data[data[\"Year\"] != 2017]\n",
    "test = data[data[\"Year\"] == 2017]"
   ]
  },
  {
   "cell_type": "code",
   "execution_count": 209,
   "metadata": {},
   "outputs": [],
   "source": [
    "train = train[[\"M/F\",\"Age\",\"Pace\",\"Grade\"]]\n",
    "test = test[[\"M/F\",\"Age\",\"Pace\",\"Grade\"]]"
   ]
  },
  {
   "cell_type": "code",
   "execution_count": 210,
   "metadata": {},
   "outputs": [],
   "source": [
    "train_list = train.values.tolist()\n",
    "test_list = test.values.tolist()"
   ]
  },
  {
   "cell_type": "code",
   "execution_count": 211,
   "metadata": {},
   "outputs": [],
   "source": [
    "x_train = [normalization(r[0:3]) for r in train_list]\n",
    "y_train = [r[-1] for r in train_list]\n",
    "\n",
    "x_test = [normalization(r[0:3]) for r in test_list]\n",
    "y_test = [r[-1] for r in test_list]"
   ]
  },
  {
   "cell_type": "code",
   "execution_count": 212,
   "metadata": {},
   "outputs": [],
   "source": [
    "def normalization(record):\n",
    "    return [record[0], record[1]/10, record[2]/100]"
   ]
  },
  {
   "cell_type": "code",
   "execution_count": 213,
   "metadata": {},
   "outputs": [],
   "source": [
    "model = tf.keras.models.Sequential()"
   ]
  },
  {
   "cell_type": "code",
   "execution_count": 214,
   "metadata": {},
   "outputs": [],
   "source": [
    "model.add(tf.keras.layers.Dense(3, input_shape = (3,), activation=\"sigmoid\"))"
   ]
  },
  {
   "cell_type": "code",
   "execution_count": 215,
   "metadata": {},
   "outputs": [],
   "source": [
    "sgd = tf.keras.optimizers.SGD(lr = 0.5)"
   ]
  },
  {
   "cell_type": "code",
   "execution_count": 216,
   "metadata": {},
   "outputs": [],
   "source": [
    "model.compile(loss = \"categorical_crossentropy\", optimizer = sgd, metrics = [\"accuracy\"])"
   ]
  },
  {
   "cell_type": "code",
   "execution_count": 217,
   "metadata": {},
   "outputs": [],
   "source": [
    "y_one_hot = tf.keras.utils.to_categorical(y_train)"
   ]
  },
  {
   "cell_type": "code",
   "execution_count": 218,
   "metadata": {},
   "outputs": [
    {
     "name": "stdout",
     "output_type": "stream",
     "text": [
      "Epoch 1/100\n",
      "1664/1664 [==============================] - 1s 461us/step - loss: 0.8811 - accuracy: 0.5274\n",
      "Epoch 2/100\n",
      "1664/1664 [==============================] - 1s 481us/step - loss: 0.7412 - accuracy: 0.5294\n",
      "Epoch 3/100\n",
      "1664/1664 [==============================] - 1s 475us/step - loss: 0.6778 - accuracy: 0.5300\n",
      "Epoch 4/100\n",
      "1664/1664 [==============================] - 1s 482us/step - loss: 0.6348 - accuracy: 0.5315\n",
      "Epoch 5/100\n",
      "1664/1664 [==============================] - 1s 473us/step - loss: 0.6063 - accuracy: 0.5312\n",
      "Epoch 6/100\n",
      "1664/1664 [==============================] - 1s 470us/step - loss: 0.5860 - accuracy: 0.5301\n",
      "Epoch 7/100\n",
      "1664/1664 [==============================] - 1s 468us/step - loss: 0.5719 - accuracy: 0.5298\n",
      "Epoch 8/100\n",
      "1664/1664 [==============================] - 1s 479us/step - loss: 0.5516 - accuracy: 0.5696\n",
      "Epoch 9/100\n",
      "1664/1664 [==============================] - 1s 476us/step - loss: 0.4709 - accuracy: 0.6736\n",
      "Epoch 10/100\n",
      "1664/1664 [==============================] - 1s 479us/step - loss: 0.4201 - accuracy: 0.6901\n",
      "Epoch 11/100\n",
      "1664/1664 [==============================] - 1s 484us/step - loss: 0.3817 - accuracy: 0.7049\n",
      "Epoch 12/100\n",
      "1664/1664 [==============================] - 1s 514us/step - loss: 0.3621 - accuracy: 0.7113\n",
      "Epoch 13/100\n",
      "1664/1664 [==============================] - 1s 478us/step - loss: 0.3437 - accuracy: 0.7213\n",
      "Epoch 14/100\n",
      "1664/1664 [==============================] - 1s 468us/step - loss: 0.3293 - accuracy: 0.7287\n",
      "Epoch 15/100\n",
      "1664/1664 [==============================] - 1s 469us/step - loss: 0.3175 - accuracy: 0.7363\n",
      "Epoch 16/100\n",
      "1664/1664 [==============================] - 1s 484us/step - loss: 0.3102 - accuracy: 0.7400\n",
      "Epoch 17/100\n",
      "1664/1664 [==============================] - 1s 471us/step - loss: 0.3066 - accuracy: 0.7430\n",
      "Epoch 18/100\n",
      "1664/1664 [==============================] - 1s 476us/step - loss: 0.2971 - accuracy: 0.7486\n",
      "Epoch 19/100\n",
      "1664/1664 [==============================] - 1s 467us/step - loss: 0.2935 - accuracy: 0.7514\n",
      "Epoch 20/100\n",
      "1664/1664 [==============================] - 1s 486us/step - loss: 0.2882 - accuracy: 0.7540\n",
      "Epoch 21/100\n",
      "1664/1664 [==============================] - 1s 478us/step - loss: 0.2822 - accuracy: 0.7593\n",
      "Epoch 22/100\n",
      "1664/1664 [==============================] - 1s 484us/step - loss: 0.2798 - accuracy: 0.7610\n",
      "Epoch 23/100\n",
      "1664/1664 [==============================] - 1s 478us/step - loss: 0.2749 - accuracy: 0.7645\n",
      "Epoch 24/100\n",
      "1664/1664 [==============================] - 1s 483us/step - loss: 0.2727 - accuracy: 0.7646\n",
      "Epoch 25/100\n",
      "1664/1664 [==============================] - 1s 494us/step - loss: 0.2697 - accuracy: 0.7683\n",
      "Epoch 26/100\n",
      "1664/1664 [==============================] - 1s 540us/step - loss: 0.2662 - accuracy: 0.7702\n",
      "Epoch 27/100\n",
      "1664/1664 [==============================] - 1s 544us/step - loss: 0.2653 - accuracy: 0.7717\n",
      "Epoch 28/100\n",
      "1664/1664 [==============================] - 1s 535us/step - loss: 0.2604 - accuracy: 0.7755\n",
      "Epoch 29/100\n",
      "1664/1664 [==============================] - 1s 519us/step - loss: 0.2610 - accuracy: 0.7754\n",
      "Epoch 30/100\n",
      "1664/1664 [==============================] - 1s 535us/step - loss: 0.2573 - accuracy: 0.7771\n",
      "Epoch 31/100\n",
      "1664/1664 [==============================] - 1s 524us/step - loss: 0.2568 - accuracy: 0.7781\n",
      "Epoch 32/100\n",
      "1664/1664 [==============================] - 1s 536us/step - loss: 0.2544 - accuracy: 0.7801\n",
      "Epoch 33/100\n",
      "1664/1664 [==============================] - 1s 534us/step - loss: 0.2536 - accuracy: 0.7806\n",
      "Epoch 34/100\n",
      "1664/1664 [==============================] - 1s 540us/step - loss: 0.2527 - accuracy: 0.7824\n",
      "Epoch 35/100\n",
      "1664/1664 [==============================] - 1s 541us/step - loss: 0.2502 - accuracy: 0.7839\n",
      "Epoch 36/100\n",
      "1664/1664 [==============================] - 1s 520us/step - loss: 0.2475 - accuracy: 0.7863\n",
      "Epoch 37/100\n",
      "1664/1664 [==============================] - 1s 544us/step - loss: 0.2480 - accuracy: 0.7859\n",
      "Epoch 38/100\n",
      "1664/1664 [==============================] - 1s 522us/step - loss: 0.2463 - accuracy: 0.7881\n",
      "Epoch 39/100\n",
      "1664/1664 [==============================] - 1s 533us/step - loss: 0.2468 - accuracy: 0.7870\n",
      "Epoch 40/100\n",
      "1664/1664 [==============================] - 1s 537us/step - loss: 0.2442 - accuracy: 0.7894\n",
      "Epoch 41/100\n",
      "1664/1664 [==============================] - 1s 547us/step - loss: 0.2439 - accuracy: 0.7901\n",
      "Epoch 42/100\n",
      "1664/1664 [==============================] - 1s 526us/step - loss: 0.2408 - accuracy: 0.7921\n",
      "Epoch 43/100\n",
      "1664/1664 [==============================] - 1s 516us/step - loss: 0.2412 - accuracy: 0.7920\n",
      "Epoch 44/100\n",
      "1664/1664 [==============================] - 1s 542us/step - loss: 0.2409 - accuracy: 0.7934\n",
      "Epoch 45/100\n",
      "1664/1664 [==============================] - 1s 529us/step - loss: 0.2393 - accuracy: 0.7945\n",
      "Epoch 46/100\n",
      "1664/1664 [==============================] - 1s 529us/step - loss: 0.2394 - accuracy: 0.7946\n",
      "Epoch 47/100\n",
      "1664/1664 [==============================] - 1s 538us/step - loss: 0.2381 - accuracy: 0.7963\n",
      "Epoch 48/100\n",
      "1664/1664 [==============================] - 1s 533us/step - loss: 0.2381 - accuracy: 0.7959\n",
      "Epoch 49/100\n",
      "1664/1664 [==============================] - 1s 532us/step - loss: 0.2378 - accuracy: 0.7965\n",
      "Epoch 50/100\n",
      "1664/1664 [==============================] - 1s 525us/step - loss: 0.2348 - accuracy: 0.7991\n",
      "Epoch 51/100\n",
      "1664/1664 [==============================] - 1s 537us/step - loss: 0.2358 - accuracy: 0.7982\n",
      "Epoch 52/100\n",
      "1664/1664 [==============================] - 1s 532us/step - loss: 0.2343 - accuracy: 0.8003\n",
      "Epoch 53/100\n",
      "1664/1664 [==============================] - 1s 530us/step - loss: 0.2330 - accuracy: 0.8014\n",
      "Epoch 54/100\n",
      "1664/1664 [==============================] - 1s 542us/step - loss: 0.2329 - accuracy: 0.8016\n",
      "Epoch 55/100\n",
      "1664/1664 [==============================] - 1s 533us/step - loss: 0.2319 - accuracy: 0.8024\n",
      "Epoch 56/100\n",
      "1664/1664 [==============================] - 1s 530us/step - loss: 0.2316 - accuracy: 0.8030\n",
      "Epoch 57/100\n",
      "1664/1664 [==============================] - 1s 546us/step - loss: 0.2316 - accuracy: 0.8031\n",
      "Epoch 58/100\n",
      "1664/1664 [==============================] - 1s 550us/step - loss: 0.2300 - accuracy: 0.8051\n",
      "Epoch 59/100\n",
      "1664/1664 [==============================] - 1s 557us/step - loss: 0.2318 - accuracy: 0.8042\n",
      "Epoch 60/100\n",
      "1664/1664 [==============================] - 1s 557us/step - loss: 0.2288 - accuracy: 0.8059\n",
      "Epoch 61/100\n",
      "1664/1664 [==============================] - 1s 566us/step - loss: 0.2295 - accuracy: 0.8055\n",
      "Epoch 62/100\n",
      "1664/1664 [==============================] - 1s 560us/step - loss: 0.2291 - accuracy: 0.8069\n",
      "Epoch 63/100\n",
      "1664/1664 [==============================] - 1s 575us/step - loss: 0.2280 - accuracy: 0.8079\n",
      "Epoch 64/100\n",
      "1664/1664 [==============================] - 1s 571us/step - loss: 0.2278 - accuracy: 0.8076\n",
      "Epoch 65/100\n",
      "1664/1664 [==============================] - 1s 561us/step - loss: 0.2278 - accuracy: 0.8076\n",
      "Epoch 66/100\n",
      "1664/1664 [==============================] - 1s 560us/step - loss: 0.2265 - accuracy: 0.8087\n",
      "Epoch 67/100\n",
      "1664/1664 [==============================] - 1s 582us/step - loss: 0.2273 - accuracy: 0.8080\n",
      "Epoch 68/100\n",
      "1664/1664 [==============================] - 1s 616us/step - loss: 0.2257 - accuracy: 0.8099\n",
      "Epoch 69/100\n",
      "1664/1664 [==============================] - 1s 559us/step - loss: 0.2260 - accuracy: 0.8091\n",
      "Epoch 70/100\n",
      "1664/1664 [==============================] - 1s 572us/step - loss: 0.2254 - accuracy: 0.8105\n",
      "Epoch 71/100\n",
      "1664/1664 [==============================] - 1s 606us/step - loss: 0.2248 - accuracy: 0.8106\n",
      "Epoch 72/100\n",
      "1664/1664 [==============================] - 1s 560us/step - loss: 0.2263 - accuracy: 0.8096\n",
      "Epoch 73/100\n",
      "1664/1664 [==============================] - 1s 598us/step - loss: 0.2251 - accuracy: 0.8114\n",
      "Epoch 74/100\n",
      "1664/1664 [==============================] - 1s 593us/step - loss: 0.2241 - accuracy: 0.8121\n",
      "Epoch 75/100\n",
      "1664/1664 [==============================] - 1s 568us/step - loss: 0.2246 - accuracy: 0.8122\n",
      "Epoch 76/100\n",
      "1664/1664 [==============================] - 1s 552us/step - loss: 0.2226 - accuracy: 0.8139\n",
      "Epoch 77/100\n",
      "1664/1664 [==============================] - 1s 545us/step - loss: 0.2230 - accuracy: 0.8133\n",
      "Epoch 78/100\n"
     ]
    },
    {
     "name": "stdout",
     "output_type": "stream",
     "text": [
      "1664/1664 [==============================] - 1s 512us/step - loss: 0.2227 - accuracy: 0.8138\n",
      "Epoch 79/100\n",
      "1664/1664 [==============================] - 1s 512us/step - loss: 0.2215 - accuracy: 0.8145\n",
      "Epoch 80/100\n",
      "1664/1664 [==============================] - 1s 530us/step - loss: 0.2222 - accuracy: 0.8142\n",
      "Epoch 81/100\n",
      "1664/1664 [==============================] - 1s 574us/step - loss: 0.2219 - accuracy: 0.8148\n",
      "Epoch 82/100\n",
      "1664/1664 [==============================] - 1s 552us/step - loss: 0.2215 - accuracy: 0.8150\n",
      "Epoch 83/100\n",
      "1664/1664 [==============================] - 1s 591us/step - loss: 0.2210 - accuracy: 0.8157\n",
      "Epoch 84/100\n",
      "1664/1664 [==============================] - 1s 548us/step - loss: 0.2208 - accuracy: 0.8157\n",
      "Epoch 85/100\n",
      "1664/1664 [==============================] - 1s 525us/step - loss: 0.2209 - accuracy: 0.8160\n",
      "Epoch 86/100\n",
      "1664/1664 [==============================] - 1s 517us/step - loss: 0.2198 - accuracy: 0.8172\n",
      "Epoch 87/100\n",
      "1664/1664 [==============================] - 1s 529us/step - loss: 0.2198 - accuracy: 0.8168\n",
      "Epoch 88/100\n",
      "1664/1664 [==============================] - 1s 527us/step - loss: 0.2202 - accuracy: 0.8168\n",
      "Epoch 89/100\n",
      "1664/1664 [==============================] - 1s 525us/step - loss: 0.2184 - accuracy: 0.8186\n",
      "Epoch 90/100\n",
      "1664/1664 [==============================] - 1s 535us/step - loss: 0.2183 - accuracy: 0.8179\n",
      "Epoch 91/100\n",
      "1664/1664 [==============================] - 1s 527us/step - loss: 0.2187 - accuracy: 0.8192\n",
      "Epoch 92/100\n",
      "1664/1664 [==============================] - 1s 529us/step - loss: 0.2183 - accuracy: 0.8190\n",
      "Epoch 93/100\n",
      "1664/1664 [==============================] - 1s 526us/step - loss: 0.2188 - accuracy: 0.8184\n",
      "Epoch 94/100\n",
      "1664/1664 [==============================] - 1s 536us/step - loss: 0.2177 - accuracy: 0.8197\n",
      "Epoch 95/100\n",
      "1664/1664 [==============================] - 1s 540us/step - loss: 0.2182 - accuracy: 0.8189\n",
      "Epoch 96/100\n",
      "1664/1664 [==============================] - 1s 530us/step - loss: 0.2173 - accuracy: 0.8202\n",
      "Epoch 97/100\n",
      "1664/1664 [==============================] - 1s 539us/step - loss: 0.2173 - accuracy: 0.8208\n",
      "Epoch 98/100\n",
      "1664/1664 [==============================] - 1s 517us/step - loss: 0.2175 - accuracy: 0.8204\n",
      "Epoch 99/100\n",
      "1664/1664 [==============================] - 1s 524us/step - loss: 0.2164 - accuracy: 0.8212\n",
      "Epoch 100/100\n",
      "1664/1664 [==============================] - 1s 528us/step - loss: 0.2170 - accuracy: 0.8212\n"
     ]
    }
   ],
   "source": [
    "history = model.fit(np.array(x_train), np.array(y_one_hot), epochs = 100)"
   ]
  },
  {
   "cell_type": "code",
   "execution_count": 219,
   "metadata": {},
   "outputs": [
    {
     "name": "stdout",
     "output_type": "stream",
     "text": [
      "Model: \"sequential_17\"\n",
      "_________________________________________________________________\n",
      "Layer (type)                 Output Shape              Param #   \n",
      "=================================================================\n",
      "dense_22 (Dense)             (None, 3)                 12        \n",
      "=================================================================\n",
      "Total params: 12\n",
      "Trainable params: 12\n",
      "Non-trainable params: 0\n",
      "_________________________________________________________________\n"
     ]
    }
   ],
   "source": [
    "model.summary()"
   ]
  },
  {
   "cell_type": "code",
   "execution_count": 220,
   "metadata": {},
   "outputs": [
    {
     "data": {
      "text/plain": [
       "array([[0., 0., 1.],\n",
       "       [0., 0., 1.],\n",
       "       [0., 0., 1.],\n",
       "       ...,\n",
       "       [1., 0., 0.],\n",
       "       [1., 0., 0.],\n",
       "       [1., 0., 0.]], dtype=float32)"
      ]
     },
     "execution_count": 220,
     "metadata": {},
     "output_type": "execute_result"
    }
   ],
   "source": [
    "y_one_hot"
   ]
  },
  {
   "cell_type": "code",
   "execution_count": 223,
   "metadata": {},
   "outputs": [
    {
     "data": {
      "text/plain": [
       "array([2], dtype=int64)"
      ]
     },
     "execution_count": 223,
     "metadata": {},
     "output_type": "execute_result"
    }
   ],
   "source": [
    "model.predict([x_test[0]]).argmax(axis = 1)"
   ]
  },
  {
   "cell_type": "code",
   "execution_count": 222,
   "metadata": {},
   "outputs": [
    {
     "data": {
      "text/plain": [
       "2"
      ]
     },
     "execution_count": 222,
     "metadata": {},
     "output_type": "execute_result"
    }
   ],
   "source": [
    "y_test[0]"
   ]
  },
  {
   "cell_type": "code",
   "execution_count": null,
   "metadata": {},
   "outputs": [],
   "source": []
  }
 ],
 "metadata": {
  "kernelspec": {
   "display_name": "Python 3",
   "language": "python",
   "name": "python3"
  },
  "language_info": {
   "codemirror_mode": {
    "name": "ipython",
    "version": 3
   },
   "file_extension": ".py",
   "mimetype": "text/x-python",
   "name": "python",
   "nbconvert_exporter": "python",
   "pygments_lexer": "ipython3",
   "version": "3.7.6"
  }
 },
 "nbformat": 4,
 "nbformat_minor": 4
}
