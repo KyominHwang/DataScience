{
 "cells": [
  {
   "cell_type": "code",
   "execution_count": 118,
   "metadata": {},
   "outputs": [],
   "source": [
    "import pandas as pd\n",
    "import numpy as np\n",
    "import tensorflow as tf"
   ]
  },
  {
   "cell_type": "code",
   "execution_count": 119,
   "metadata": {},
   "outputs": [
    {
     "data": {
      "text/html": [
       "<div>\n",
       "<style scoped>\n",
       "    .dataframe tbody tr th:only-of-type {\n",
       "        vertical-align: middle;\n",
       "    }\n",
       "\n",
       "    .dataframe tbody tr th {\n",
       "        vertical-align: top;\n",
       "    }\n",
       "\n",
       "    .dataframe thead th {\n",
       "        text-align: right;\n",
       "    }\n",
       "</style>\n",
       "<table border=\"1\" class=\"dataframe\">\n",
       "  <thead>\n",
       "    <tr style=\"text-align: right;\">\n",
       "      <th></th>\n",
       "      <th>M/F</th>\n",
       "      <th>Age</th>\n",
       "      <th>Pace</th>\n",
       "      <th>Official Time</th>\n",
       "      <th>Year</th>\n",
       "      <th>qualifying</th>\n",
       "    </tr>\n",
       "  </thead>\n",
       "  <tbody>\n",
       "    <tr>\n",
       "      <th>0</th>\n",
       "      <td>1</td>\n",
       "      <td>25</td>\n",
       "      <td>296</td>\n",
       "      <td>7757</td>\n",
       "      <td>2015</td>\n",
       "      <td>1</td>\n",
       "    </tr>\n",
       "    <tr>\n",
       "      <th>1</th>\n",
       "      <td>1</td>\n",
       "      <td>30</td>\n",
       "      <td>298</td>\n",
       "      <td>7788</td>\n",
       "      <td>2015</td>\n",
       "      <td>1</td>\n",
       "    </tr>\n",
       "    <tr>\n",
       "      <th>2</th>\n",
       "      <td>1</td>\n",
       "      <td>29</td>\n",
       "      <td>299</td>\n",
       "      <td>7822</td>\n",
       "      <td>2015</td>\n",
       "      <td>1</td>\n",
       "    </tr>\n",
       "    <tr>\n",
       "      <th>3</th>\n",
       "      <td>1</td>\n",
       "      <td>28</td>\n",
       "      <td>300</td>\n",
       "      <td>7847</td>\n",
       "      <td>2015</td>\n",
       "      <td>1</td>\n",
       "    </tr>\n",
       "    <tr>\n",
       "      <th>4</th>\n",
       "      <td>1</td>\n",
       "      <td>32</td>\n",
       "      <td>300</td>\n",
       "      <td>7849</td>\n",
       "      <td>2015</td>\n",
       "      <td>1</td>\n",
       "    </tr>\n",
       "  </tbody>\n",
       "</table>\n",
       "</div>"
      ],
      "text/plain": [
       "   M/F  Age  Pace  Official Time  Year  qualifying\n",
       "0    1   25   296           7757  2015           1\n",
       "1    1   30   298           7788  2015           1\n",
       "2    1   29   299           7822  2015           1\n",
       "3    1   28   300           7847  2015           1\n",
       "4    1   32   300           7849  2015           1"
      ]
     },
     "execution_count": 119,
     "metadata": {},
     "output_type": "execute_result"
    }
   ],
   "source": [
    "data = pd.read_csv(\"marathon/marathon_2015_2017_qualifying.csv\")\n",
    "data.head()"
   ]
  },
  {
   "cell_type": "code",
   "execution_count": 120,
   "metadata": {},
   "outputs": [],
   "source": [
    "train = data[data[\"Year\"] != 2017]\n",
    "test = data[data[\"Year\"] == 2017]"
   ]
  },
  {
   "cell_type": "code",
   "execution_count": 121,
   "metadata": {},
   "outputs": [
    {
     "data": {
      "text/html": [
       "<div>\n",
       "<style scoped>\n",
       "    .dataframe tbody tr th:only-of-type {\n",
       "        vertical-align: middle;\n",
       "    }\n",
       "\n",
       "    .dataframe tbody tr th {\n",
       "        vertical-align: top;\n",
       "    }\n",
       "\n",
       "    .dataframe thead th {\n",
       "        text-align: right;\n",
       "    }\n",
       "</style>\n",
       "<table border=\"1\" class=\"dataframe\">\n",
       "  <thead>\n",
       "    <tr style=\"text-align: right;\">\n",
       "      <th></th>\n",
       "      <th>M/F</th>\n",
       "      <th>Age</th>\n",
       "      <th>Pace</th>\n",
       "      <th>Official Time</th>\n",
       "      <th>Year</th>\n",
       "      <th>qualifying</th>\n",
       "    </tr>\n",
       "  </thead>\n",
       "  <tbody>\n",
       "    <tr>\n",
       "      <th>0</th>\n",
       "      <td>1</td>\n",
       "      <td>25</td>\n",
       "      <td>296</td>\n",
       "      <td>7757</td>\n",
       "      <td>2015</td>\n",
       "      <td>1</td>\n",
       "    </tr>\n",
       "    <tr>\n",
       "      <th>1</th>\n",
       "      <td>1</td>\n",
       "      <td>30</td>\n",
       "      <td>298</td>\n",
       "      <td>7788</td>\n",
       "      <td>2015</td>\n",
       "      <td>1</td>\n",
       "    </tr>\n",
       "    <tr>\n",
       "      <th>2</th>\n",
       "      <td>1</td>\n",
       "      <td>29</td>\n",
       "      <td>299</td>\n",
       "      <td>7822</td>\n",
       "      <td>2015</td>\n",
       "      <td>1</td>\n",
       "    </tr>\n",
       "    <tr>\n",
       "      <th>3</th>\n",
       "      <td>1</td>\n",
       "      <td>28</td>\n",
       "      <td>300</td>\n",
       "      <td>7847</td>\n",
       "      <td>2015</td>\n",
       "      <td>1</td>\n",
       "    </tr>\n",
       "    <tr>\n",
       "      <th>4</th>\n",
       "      <td>1</td>\n",
       "      <td>32</td>\n",
       "      <td>300</td>\n",
       "      <td>7849</td>\n",
       "      <td>2015</td>\n",
       "      <td>1</td>\n",
       "    </tr>\n",
       "  </tbody>\n",
       "</table>\n",
       "</div>"
      ],
      "text/plain": [
       "   M/F  Age  Pace  Official Time  Year  qualifying\n",
       "0    1   25   296           7757  2015           1\n",
       "1    1   30   298           7788  2015           1\n",
       "2    1   29   299           7822  2015           1\n",
       "3    1   28   300           7847  2015           1\n",
       "4    1   32   300           7849  2015           1"
      ]
     },
     "execution_count": 121,
     "metadata": {},
     "output_type": "execute_result"
    }
   ],
   "source": [
    "train.head()"
   ]
  },
  {
   "cell_type": "code",
   "execution_count": 137,
   "metadata": {},
   "outputs": [],
   "source": [
    "train_list = train.values.tolist()\n",
    "test_list = test.values.tolist()"
   ]
  },
  {
   "cell_type": "code",
   "execution_count": 138,
   "metadata": {},
   "outputs": [],
   "source": [
    "x_train = [normalization(r[0:3]) for r in train_list]\n",
    "y_train = [r[-1] for r in train_list]\n",
    "\n",
    "x_test = [normalization(r[0:3]) for r in test_list]\n",
    "y_test = [r[-1] for r in test_list]"
   ]
  },
  {
   "cell_type": "code",
   "execution_count": 139,
   "metadata": {},
   "outputs": [],
   "source": [
    "model = tf.keras.models.Sequential()"
   ]
  },
  {
   "cell_type": "code",
   "execution_count": 140,
   "metadata": {},
   "outputs": [],
   "source": [
    "model.add(tf.keras.layers.Dense(1, input_shape = (3,), activation=\"sigmoid\"))"
   ]
  },
  {
   "cell_type": "code",
   "execution_count": 141,
   "metadata": {},
   "outputs": [],
   "source": [
    "sgd = tf.keras.optimizers.SGD(lr = 0.1)"
   ]
  },
  {
   "cell_type": "code",
   "execution_count": 142,
   "metadata": {},
   "outputs": [],
   "source": [
    "model.compile(loss=\"binary_crossentropy\", optimizer = sgd, metrics=[\"accuracy\"])"
   ]
  },
  {
   "cell_type": "code",
   "execution_count": 143,
   "metadata": {},
   "outputs": [
    {
     "name": "stdout",
     "output_type": "stream",
     "text": [
      "Epoch 1/20\n",
      "1664/1664 [==============================] - 1s 444us/step - loss: 0.4743 - accuracy: 0.7587\n",
      "Epoch 2/20\n",
      "1664/1664 [==============================] - 1s 439us/step - loss: 0.3891 - accuracy: 0.8298\n",
      "Epoch 3/20\n",
      "1664/1664 [==============================] - 1s 444us/step - loss: 0.3457 - accuracy: 0.8669\n",
      "Epoch 4/20\n",
      "1664/1664 [==============================] - 1s 456us/step - loss: 0.3182 - accuracy: 0.8875\n",
      "Epoch 5/20\n",
      "1664/1664 [==============================] - 1s 453us/step - loss: 0.2987 - accuracy: 0.8984\n",
      "Epoch 6/20\n",
      "1664/1664 [==============================] - 1s 474us/step - loss: 0.2835 - accuracy: 0.9060\n",
      "Epoch 7/20\n",
      "1664/1664 [==============================] - 1s 602us/step - loss: 0.2720 - accuracy: 0.9126\n",
      "Epoch 8/20\n",
      "1664/1664 [==============================] - 1s 472us/step - loss: 0.2629 - accuracy: 0.9154\n",
      "Epoch 9/20\n",
      "1664/1664 [==============================] - 1s 575us/step - loss: 0.2546 - accuracy: 0.9177\n",
      "Epoch 10/20\n",
      "1664/1664 [==============================] - 1s 560us/step - loss: 0.2489 - accuracy: 0.9189\n",
      "Epoch 11/20\n",
      "1664/1664 [==============================] - 1s 460us/step - loss: 0.2432 - accuracy: 0.9196\n",
      "Epoch 12/20\n",
      "1664/1664 [==============================] - 1s 447us/step - loss: 0.2386 - accuracy: 0.9201\n",
      "Epoch 13/20\n",
      "1664/1664 [==============================] - 1s 445us/step - loss: 0.2344 - accuracy: 0.9212\n",
      "Epoch 14/20\n",
      "1664/1664 [==============================] - 1s 439us/step - loss: 0.2306 - accuracy: 0.9216\n",
      "Epoch 15/20\n",
      "1664/1664 [==============================] - 1s 499us/step - loss: 0.2274 - accuracy: 0.9221\n",
      "Epoch 16/20\n",
      "1664/1664 [==============================] - 1s 450us/step - loss: 0.2238 - accuracy: 0.9224\n",
      "Epoch 17/20\n",
      "1664/1664 [==============================] - 1s 483us/step - loss: 0.2216 - accuracy: 0.9236\n",
      "Epoch 18/20\n",
      "1664/1664 [==============================] - 1s 443us/step - loss: 0.2194 - accuracy: 0.9234\n",
      "Epoch 19/20\n",
      "1664/1664 [==============================] - 1s 454us/step - loss: 0.2173 - accuracy: 0.9234\n",
      "Epoch 20/20\n",
      "1664/1664 [==============================] - 1s 436us/step - loss: 0.2154 - accuracy: 0.9234\n"
     ]
    },
    {
     "data": {
      "text/plain": [
       "<tensorflow.python.keras.callbacks.History at 0x1b54204ec08>"
      ]
     },
     "execution_count": 143,
     "metadata": {},
     "output_type": "execute_result"
    }
   ],
   "source": [
    "model.fit(x_train, y_train, epochs = 20)"
   ]
  },
  {
   "cell_type": "code",
   "execution_count": 152,
   "metadata": {},
   "outputs": [
    {
     "data": {
      "text/plain": [
       "array([[1.]], dtype=float32)"
      ]
     },
     "execution_count": 152,
     "metadata": {},
     "output_type": "execute_result"
    }
   ],
   "source": [
    "res = model.predict([normalization(x_test[0])])\n",
    "res"
   ]
  },
  {
   "cell_type": "code",
   "execution_count": 153,
   "metadata": {},
   "outputs": [
    {
     "data": {
      "text/plain": [
       "1"
      ]
     },
     "execution_count": 153,
     "metadata": {},
     "output_type": "execute_result"
    }
   ],
   "source": [
    "y_test[0]"
   ]
  },
  {
   "cell_type": "code",
   "execution_count": null,
   "metadata": {},
   "outputs": [],
   "source": []
  },
  {
   "cell_type": "code",
   "execution_count": null,
   "metadata": {},
   "outputs": [],
   "source": []
  },
  {
   "cell_type": "code",
   "execution_count": null,
   "metadata": {},
   "outputs": [],
   "source": []
  }
 ],
 "metadata": {
  "kernelspec": {
   "display_name": "Python 3",
   "language": "python",
   "name": "python3"
  },
  "language_info": {
   "codemirror_mode": {
    "name": "ipython",
    "version": 3
   },
   "file_extension": ".py",
   "mimetype": "text/x-python",
   "name": "python",
   "nbconvert_exporter": "python",
   "pygments_lexer": "ipython3",
   "version": "3.7.6"
  }
 },
 "nbformat": 4,
 "nbformat_minor": 4
}
