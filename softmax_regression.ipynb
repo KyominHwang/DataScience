{
 "cells": [
  {
   "cell_type": "code",
   "execution_count": 19,
   "metadata": {},
   "outputs": [],
   "source": [
    "import torch\n",
    "import torch.nn.functional as F\n",
    "import torch.nn as nn"
   ]
  },
  {
   "cell_type": "code",
   "execution_count": 21,
   "metadata": {},
   "outputs": [],
   "source": [
    "x_train = torch.FloatTensor([[1,2,1,1],[2,1,3,2],[3,1,3,4],[4,1,5,5],[1,7,5,5],[1,2,5,6],[1,6,6,6],[1,7,7,7]])\n",
    "# y_train = torch.FloatTensor([[0,0,1],[0,0,1],[0,0,1],[0,1,0],[0,1,0],[0,1,0],[1,0,0],[1,0,0]])\n",
    "y_train = torch.LongTensor([2,2,2,1,1,1,0,0])"
   ]
  },
  {
   "cell_type": "code",
   "execution_count": 22,
   "metadata": {},
   "outputs": [
    {
     "data": {
      "text/plain": [
       "(torch.Size([8, 4]), torch.Size([8]))"
      ]
     },
     "execution_count": 22,
     "metadata": {},
     "output_type": "execute_result"
    }
   ],
   "source": [
    "x_train.shape, y_train.shape"
   ]
  },
  {
   "cell_type": "code",
   "execution_count": 45,
   "metadata": {},
   "outputs": [],
   "source": [
    "W = torch.zeros(4,3,requires_grad = True)\n",
    "b = torch.zeros(1,3, requires_grad = True)"
   ]
  },
  {
   "cell_type": "code",
   "execution_count": 53,
   "metadata": {},
   "outputs": [],
   "source": [
    "model = nn.Linear(4,3)\n",
    "optimizer = torch.optim.Adam(model.parameters(), lr = 0.1)"
   ]
  },
  {
   "cell_type": "code",
   "execution_count": 54,
   "metadata": {},
   "outputs": [
    {
     "name": "stdout",
     "output_type": "stream",
     "text": [
      "0 1.9665322303771973\n",
      "100 0.27729329466819763\n",
      "200 0.15514123439788818\n",
      "300 0.09864363074302673\n",
      "400 0.06849714368581772\n",
      "500 0.050470225512981415\n",
      "600 0.03880537301301956\n",
      "700 0.030807683244347572\n",
      "800 0.025074925273656845\n",
      "900 0.020817803218960762\n",
      "1000 0.017564373090863228\n"
     ]
    }
   ],
   "source": [
    "for epoch in range(1001):\n",
    "    # hypothesis = torch.softmax(torch.mm(x_train, W) + b, dim = 1)\n",
    "    # cost = -torch.mean(torch.sum(y_train * torch.log(hypothesis), dim = 1))\n",
    "    # z = torch.mm(x_train, W) + b\n",
    "    z = model(x_train)\n",
    "    cost = F.cross_entropy(z, y_train)\n",
    "    \n",
    "    optimizer.zero_grad()\n",
    "    cost.backward()\n",
    "    optimizer.step()\n",
    "    \n",
    "    if epoch % 100 == 0:\n",
    "        print(epoch, cost.item())"
   ]
  },
  {
   "cell_type": "code",
   "execution_count": 58,
   "metadata": {},
   "outputs": [
    {
     "name": "stdout",
     "output_type": "stream",
     "text": [
      "tensor([[ 24.6155,  -1.5519, -34.1370],\n",
      "        [ -1.9816,   0.4226,  -0.9215],\n",
      "        [-24.7471,   6.6928,  24.7840]], grad_fn=<AddmmBackward>)\n"
     ]
    }
   ],
   "source": [
    "# W.requires_grad_(False)\n",
    "# b.requires_grad_(False)\n",
    "\n",
    "x_test = torch.FloatTensor([[1,11,10,9],[1,3,4,3],[1,1,0,1]])\n",
    "# test_res = torch.softmax(torch.mm(x_test, W) + b, dim = 1)\n",
    "test_res = model(x_test)\n",
    "print(test_res)"
   ]
  },
  {
   "cell_type": "code",
   "execution_count": 59,
   "metadata": {},
   "outputs": [],
   "source": [
    "# dim == 0 : col방향으로 / dim == 1 : row방향으로\n",
    "# https://wikidocs.net/52460"
   ]
  },
  {
   "cell_type": "code",
   "execution_count": 60,
   "metadata": {},
   "outputs": [
    {
     "data": {
      "text/plain": [
       "tensor([0, 1, 2])"
      ]
     },
     "execution_count": 60,
     "metadata": {},
     "output_type": "execute_result"
    }
   ],
   "source": [
    "torch.argmax(test_res, dim = 1)"
   ]
  },
  {
   "cell_type": "code",
   "execution_count": null,
   "metadata": {},
   "outputs": [],
   "source": []
  }
 ],
 "metadata": {
  "kernelspec": {
   "display_name": "Python 3",
   "language": "python",
   "name": "python3"
  },
  "language_info": {
   "codemirror_mode": {
    "name": "ipython",
    "version": 3
   },
   "file_extension": ".py",
   "mimetype": "text/x-python",
   "name": "python",
   "nbconvert_exporter": "python",
   "pygments_lexer": "ipython3",
   "version": "3.7.9"
  }
 },
 "nbformat": 4,
 "nbformat_minor": 4
}
