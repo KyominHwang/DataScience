{
 "cells": [
  {
   "cell_type": "code",
   "execution_count": 4,
   "metadata": {},
   "outputs": [],
   "source": [
    "import numpy as np\n",
    "import pandas as pd\n",
    "import seaborn as sns\n",
    "import matplotlib.pyplot as plt"
   ]
  },
  {
   "cell_type": "code",
   "execution_count": 7,
   "metadata": {},
   "outputs": [],
   "source": [
    "plt.rc('font',family=\"Malgun Gothic\")\n",
    "%matplotlib inline"
   ]
  },
  {
   "cell_type": "code",
   "execution_count": 8,
   "metadata": {},
   "outputs": [],
   "source": [
    "from IPython.display import set_matplotlib_formats\n",
    "set_matplotlib_formats('retina')"
   ]
  },
  {
   "cell_type": "code",
   "execution_count": 18,
   "metadata": {},
   "outputs": [],
   "source": [
    "df = pd.read_csv(\"소상공인시장진흥공단_상가업소정보_의료기관_201909.csv\",low_memory=False)"
   ]
  },
  {
   "cell_type": "code",
   "execution_count": 19,
   "metadata": {},
   "outputs": [
    {
     "data": {
      "text/plain": [
       "(91335, 39)"
      ]
     },
     "execution_count": 19,
     "metadata": {},
     "output_type": "execute_result"
    }
   ],
   "source": [
    "df.shape"
   ]
  },
  {
   "cell_type": "code",
   "execution_count": 21,
   "metadata": {},
   "outputs": [
    {
     "data": {
      "text/html": [
       "<div>\n",
       "<style scoped>\n",
       "    .dataframe tbody tr th:only-of-type {\n",
       "        vertical-align: middle;\n",
       "    }\n",
       "\n",
       "    .dataframe tbody tr th {\n",
       "        vertical-align: top;\n",
       "    }\n",
       "\n",
       "    .dataframe thead th {\n",
       "        text-align: right;\n",
       "    }\n",
       "</style>\n",
       "<table border=\"1\" class=\"dataframe\">\n",
       "  <thead>\n",
       "    <tr style=\"text-align: right;\">\n",
       "      <th></th>\n",
       "      <th>상가업소번호</th>\n",
       "      <th>상호명</th>\n",
       "      <th>지점명</th>\n",
       "      <th>상권업종대분류코드</th>\n",
       "      <th>상권업종대분류명</th>\n",
       "      <th>상권업종중분류코드</th>\n",
       "      <th>상권업종중분류명</th>\n",
       "      <th>상권업종소분류코드</th>\n",
       "      <th>상권업종소분류명</th>\n",
       "      <th>표준산업분류코드</th>\n",
       "      <th>...</th>\n",
       "      <th>건물관리번호</th>\n",
       "      <th>건물명</th>\n",
       "      <th>도로명주소</th>\n",
       "      <th>구우편번호</th>\n",
       "      <th>신우편번호</th>\n",
       "      <th>동정보</th>\n",
       "      <th>층정보</th>\n",
       "      <th>호정보</th>\n",
       "      <th>경도</th>\n",
       "      <th>위도</th>\n",
       "    </tr>\n",
       "  </thead>\n",
       "  <tbody>\n",
       "    <tr>\n",
       "      <th>0</th>\n",
       "      <td>19956873</td>\n",
       "      <td>하나산부인과</td>\n",
       "      <td>NaN</td>\n",
       "      <td>S</td>\n",
       "      <td>의료</td>\n",
       "      <td>S01</td>\n",
       "      <td>병원</td>\n",
       "      <td>S01B10</td>\n",
       "      <td>산부인과</td>\n",
       "      <td>Q86201</td>\n",
       "      <td>...</td>\n",
       "      <td>4127310900110810000010857</td>\n",
       "      <td>산호한양아파트</td>\n",
       "      <td>경기도 안산시 단원구 달미로 10</td>\n",
       "      <td>425764.0</td>\n",
       "      <td>15236.0</td>\n",
       "      <td>NaN</td>\n",
       "      <td>NaN</td>\n",
       "      <td>NaN</td>\n",
       "      <td>126.814295</td>\n",
       "      <td>37.336344</td>\n",
       "    </tr>\n",
       "  </tbody>\n",
       "</table>\n",
       "<p>1 rows × 39 columns</p>\n",
       "</div>"
      ],
      "text/plain": [
       "     상가업소번호     상호명  지점명 상권업종대분류코드 상권업종대분류명 상권업종중분류코드 상권업종중분류명 상권업종소분류코드  \\\n",
       "0  19956873  하나산부인과  NaN         S       의료       S01       병원    S01B10   \n",
       "\n",
       "  상권업종소분류명 표준산업분류코드  ...                     건물관리번호      건물명  \\\n",
       "0     산부인과   Q86201  ...  4127310900110810000010857  산호한양아파트   \n",
       "\n",
       "                도로명주소     구우편번호    신우편번호  동정보  층정보  호정보          경도         위도  \n",
       "0  경기도 안산시 단원구 달미로 10  425764.0  15236.0  NaN  NaN  NaN  126.814295  37.336344  \n",
       "\n",
       "[1 rows x 39 columns]"
      ]
     },
     "execution_count": 21,
     "metadata": {},
     "output_type": "execute_result"
    }
   ],
   "source": [
    "df.head(1)"
   ]
  },
  {
   "cell_type": "code",
   "execution_count": 22,
   "metadata": {},
   "outputs": [
    {
     "data": {
      "text/plain": [
       "Index(['상가업소번호', '상호명', '지점명', '상권업종대분류코드', '상권업종대분류명', '상권업종중분류코드',\n",
       "       '상권업종중분류명', '상권업종소분류코드', '상권업종소분류명', '표준산업분류코드', '표준산업분류명', '시도코드',\n",
       "       '시도명', '시군구코드', '시군구명', '행정동코드', '행정동명', '법정동코드', '법정동명', '지번코드',\n",
       "       '대지구분코드', '대지구분명', '지번본번지', '지번부번지', '지번주소', '도로명코드', '도로명', '건물본번지',\n",
       "       '건물부번지', '건물관리번호', '건물명', '도로명주소', '구우편번호', '신우편번호', '동정보', '층정보',\n",
       "       '호정보', '경도', '위도'],\n",
       "      dtype='object')"
      ]
     },
     "execution_count": 22,
     "metadata": {},
     "output_type": "execute_result"
    }
   ],
   "source": [
    "df.columns"
   ]
  },
  {
   "cell_type": "code",
   "execution_count": 36,
   "metadata": {},
   "outputs": [],
   "source": [
    "drop_col= df.isnull().sum().sort_values(ascending=False).head(10).index"
   ]
  },
  {
   "cell_type": "code",
   "execution_count": 38,
   "metadata": {},
   "outputs": [
    {
     "data": {
      "text/plain": [
       "['지점명',\n",
       " '동정보',\n",
       " '건물부번지',\n",
       " '호정보',\n",
       " '층정보',\n",
       " '건물명',\n",
       " '지번부번지',\n",
       " '표준산업분류코드',\n",
       " '표준산업분류명',\n",
       " '시군구명']"
      ]
     },
     "execution_count": 38,
     "metadata": {},
     "output_type": "execute_result"
    }
   ],
   "source": [
    "drop_col.tolist()"
   ]
  },
  {
   "cell_type": "code",
   "execution_count": 42,
   "metadata": {},
   "outputs": [
    {
     "ename": "KeyError",
     "evalue": "\"['지점명' '동정보' '건물부번지' '호정보' '층정보' '건물명' '지번부번지' '표준산업분류코드' '표준산업분류명' '시군구명'] not found in axis\"",
     "output_type": "error",
     "traceback": [
      "\u001b[1;31m---------------------------------------------------------------------------\u001b[0m",
      "\u001b[1;31mKeyError\u001b[0m                                  Traceback (most recent call last)",
      "\u001b[1;32m<ipython-input-42-d58153dc56d0>\u001b[0m in \u001b[0;36m<module>\u001b[1;34m\u001b[0m\n\u001b[1;32m----> 1\u001b[1;33m \u001b[0mdf\u001b[0m \u001b[1;33m=\u001b[0m \u001b[0mdf\u001b[0m\u001b[1;33m.\u001b[0m\u001b[0mdrop\u001b[0m\u001b[1;33m(\u001b[0m\u001b[0mdrop_col\u001b[0m\u001b[1;33m,\u001b[0m\u001b[0maxis\u001b[0m\u001b[1;33m=\u001b[0m\u001b[1;36m1\u001b[0m\u001b[1;33m)\u001b[0m\u001b[1;33m\u001b[0m\u001b[1;33m\u001b[0m\u001b[0m\n\u001b[0m",
      "\u001b[1;32mC:\\ProgramData\\Anaconda3\\lib\\site-packages\\pandas\\core\\frame.py\u001b[0m in \u001b[0;36mdrop\u001b[1;34m(self, labels, axis, index, columns, level, inplace, errors)\u001b[0m\n\u001b[0;32m   3995\u001b[0m             \u001b[0mlevel\u001b[0m\u001b[1;33m=\u001b[0m\u001b[0mlevel\u001b[0m\u001b[1;33m,\u001b[0m\u001b[1;33m\u001b[0m\u001b[1;33m\u001b[0m\u001b[0m\n\u001b[0;32m   3996\u001b[0m             \u001b[0minplace\u001b[0m\u001b[1;33m=\u001b[0m\u001b[0minplace\u001b[0m\u001b[1;33m,\u001b[0m\u001b[1;33m\u001b[0m\u001b[1;33m\u001b[0m\u001b[0m\n\u001b[1;32m-> 3997\u001b[1;33m             \u001b[0merrors\u001b[0m\u001b[1;33m=\u001b[0m\u001b[0merrors\u001b[0m\u001b[1;33m,\u001b[0m\u001b[1;33m\u001b[0m\u001b[1;33m\u001b[0m\u001b[0m\n\u001b[0m\u001b[0;32m   3998\u001b[0m         )\n\u001b[0;32m   3999\u001b[0m \u001b[1;33m\u001b[0m\u001b[0m\n",
      "\u001b[1;32mC:\\ProgramData\\Anaconda3\\lib\\site-packages\\pandas\\core\\generic.py\u001b[0m in \u001b[0;36mdrop\u001b[1;34m(self, labels, axis, index, columns, level, inplace, errors)\u001b[0m\n\u001b[0;32m   3934\u001b[0m         \u001b[1;32mfor\u001b[0m \u001b[0maxis\u001b[0m\u001b[1;33m,\u001b[0m \u001b[0mlabels\u001b[0m \u001b[1;32min\u001b[0m \u001b[0maxes\u001b[0m\u001b[1;33m.\u001b[0m\u001b[0mitems\u001b[0m\u001b[1;33m(\u001b[0m\u001b[1;33m)\u001b[0m\u001b[1;33m:\u001b[0m\u001b[1;33m\u001b[0m\u001b[1;33m\u001b[0m\u001b[0m\n\u001b[0;32m   3935\u001b[0m             \u001b[1;32mif\u001b[0m \u001b[0mlabels\u001b[0m \u001b[1;32mis\u001b[0m \u001b[1;32mnot\u001b[0m \u001b[1;32mNone\u001b[0m\u001b[1;33m:\u001b[0m\u001b[1;33m\u001b[0m\u001b[1;33m\u001b[0m\u001b[0m\n\u001b[1;32m-> 3936\u001b[1;33m                 \u001b[0mobj\u001b[0m \u001b[1;33m=\u001b[0m \u001b[0mobj\u001b[0m\u001b[1;33m.\u001b[0m\u001b[0m_drop_axis\u001b[0m\u001b[1;33m(\u001b[0m\u001b[0mlabels\u001b[0m\u001b[1;33m,\u001b[0m \u001b[0maxis\u001b[0m\u001b[1;33m,\u001b[0m \u001b[0mlevel\u001b[0m\u001b[1;33m=\u001b[0m\u001b[0mlevel\u001b[0m\u001b[1;33m,\u001b[0m \u001b[0merrors\u001b[0m\u001b[1;33m=\u001b[0m\u001b[0merrors\u001b[0m\u001b[1;33m)\u001b[0m\u001b[1;33m\u001b[0m\u001b[1;33m\u001b[0m\u001b[0m\n\u001b[0m\u001b[0;32m   3937\u001b[0m \u001b[1;33m\u001b[0m\u001b[0m\n\u001b[0;32m   3938\u001b[0m         \u001b[1;32mif\u001b[0m \u001b[0minplace\u001b[0m\u001b[1;33m:\u001b[0m\u001b[1;33m\u001b[0m\u001b[1;33m\u001b[0m\u001b[0m\n",
      "\u001b[1;32mC:\\ProgramData\\Anaconda3\\lib\\site-packages\\pandas\\core\\generic.py\u001b[0m in \u001b[0;36m_drop_axis\u001b[1;34m(self, labels, axis, level, errors)\u001b[0m\n\u001b[0;32m   3968\u001b[0m                 \u001b[0mnew_axis\u001b[0m \u001b[1;33m=\u001b[0m \u001b[0maxis\u001b[0m\u001b[1;33m.\u001b[0m\u001b[0mdrop\u001b[0m\u001b[1;33m(\u001b[0m\u001b[0mlabels\u001b[0m\u001b[1;33m,\u001b[0m \u001b[0mlevel\u001b[0m\u001b[1;33m=\u001b[0m\u001b[0mlevel\u001b[0m\u001b[1;33m,\u001b[0m \u001b[0merrors\u001b[0m\u001b[1;33m=\u001b[0m\u001b[0merrors\u001b[0m\u001b[1;33m)\u001b[0m\u001b[1;33m\u001b[0m\u001b[1;33m\u001b[0m\u001b[0m\n\u001b[0;32m   3969\u001b[0m             \u001b[1;32melse\u001b[0m\u001b[1;33m:\u001b[0m\u001b[1;33m\u001b[0m\u001b[1;33m\u001b[0m\u001b[0m\n\u001b[1;32m-> 3970\u001b[1;33m                 \u001b[0mnew_axis\u001b[0m \u001b[1;33m=\u001b[0m \u001b[0maxis\u001b[0m\u001b[1;33m.\u001b[0m\u001b[0mdrop\u001b[0m\u001b[1;33m(\u001b[0m\u001b[0mlabels\u001b[0m\u001b[1;33m,\u001b[0m \u001b[0merrors\u001b[0m\u001b[1;33m=\u001b[0m\u001b[0merrors\u001b[0m\u001b[1;33m)\u001b[0m\u001b[1;33m\u001b[0m\u001b[1;33m\u001b[0m\u001b[0m\n\u001b[0m\u001b[0;32m   3971\u001b[0m             \u001b[0mresult\u001b[0m \u001b[1;33m=\u001b[0m \u001b[0mself\u001b[0m\u001b[1;33m.\u001b[0m\u001b[0mreindex\u001b[0m\u001b[1;33m(\u001b[0m\u001b[1;33m**\u001b[0m\u001b[1;33m{\u001b[0m\u001b[0maxis_name\u001b[0m\u001b[1;33m:\u001b[0m \u001b[0mnew_axis\u001b[0m\u001b[1;33m}\u001b[0m\u001b[1;33m)\u001b[0m\u001b[1;33m\u001b[0m\u001b[1;33m\u001b[0m\u001b[0m\n\u001b[0;32m   3972\u001b[0m \u001b[1;33m\u001b[0m\u001b[0m\n",
      "\u001b[1;32mC:\\ProgramData\\Anaconda3\\lib\\site-packages\\pandas\\core\\indexes\\base.py\u001b[0m in \u001b[0;36mdrop\u001b[1;34m(self, labels, errors)\u001b[0m\n\u001b[0;32m   5016\u001b[0m         \u001b[1;32mif\u001b[0m \u001b[0mmask\u001b[0m\u001b[1;33m.\u001b[0m\u001b[0many\u001b[0m\u001b[1;33m(\u001b[0m\u001b[1;33m)\u001b[0m\u001b[1;33m:\u001b[0m\u001b[1;33m\u001b[0m\u001b[1;33m\u001b[0m\u001b[0m\n\u001b[0;32m   5017\u001b[0m             \u001b[1;32mif\u001b[0m \u001b[0merrors\u001b[0m \u001b[1;33m!=\u001b[0m \u001b[1;34m\"ignore\"\u001b[0m\u001b[1;33m:\u001b[0m\u001b[1;33m\u001b[0m\u001b[1;33m\u001b[0m\u001b[0m\n\u001b[1;32m-> 5018\u001b[1;33m                 \u001b[1;32mraise\u001b[0m \u001b[0mKeyError\u001b[0m\u001b[1;33m(\u001b[0m\u001b[1;34mf\"{labels[mask]} not found in axis\"\u001b[0m\u001b[1;33m)\u001b[0m\u001b[1;33m\u001b[0m\u001b[1;33m\u001b[0m\u001b[0m\n\u001b[0m\u001b[0;32m   5019\u001b[0m             \u001b[0mindexer\u001b[0m \u001b[1;33m=\u001b[0m \u001b[0mindexer\u001b[0m\u001b[1;33m[\u001b[0m\u001b[1;33m~\u001b[0m\u001b[0mmask\u001b[0m\u001b[1;33m]\u001b[0m\u001b[1;33m\u001b[0m\u001b[1;33m\u001b[0m\u001b[0m\n\u001b[0;32m   5020\u001b[0m         \u001b[1;32mreturn\u001b[0m \u001b[0mself\u001b[0m\u001b[1;33m.\u001b[0m\u001b[0mdelete\u001b[0m\u001b[1;33m(\u001b[0m\u001b[0mindexer\u001b[0m\u001b[1;33m)\u001b[0m\u001b[1;33m\u001b[0m\u001b[1;33m\u001b[0m\u001b[0m\n",
      "\u001b[1;31mKeyError\u001b[0m: \"['지점명' '동정보' '건물부번지' '호정보' '층정보' '건물명' '지번부번지' '표준산업분류코드' '표준산업분류명' '시군구명'] not found in axis\""
     ]
    }
   ],
   "source": [
    "df = df.drop(drop_col,axis=1)"
   ]
  },
  {
   "cell_type": "code",
   "execution_count": 47,
   "metadata": {},
   "outputs": [
    {
     "data": {
      "text/plain": [
       "Index(['상가업소번호', '상호명', '상권업종대분류코드', '상권업종대분류명', '상권업종중분류코드', '상권업종중분류명',\n",
       "       '상권업종소분류코드', '상권업종소분류명', '시도코드', '시도명', '시군구코드', '행정동코드', '행정동명',\n",
       "       '법정동코드', '법정동명', '지번코드', '대지구분코드', '대지구분명', '지번본번지', '지번주소', '도로명코드',\n",
       "       '도로명', '건물본번지', '건물관리번호', '도로명주소', '구우편번호', '신우편번호', '경도', '위도'],\n",
       "      dtype='object')"
      ]
     },
     "execution_count": 47,
     "metadata": {},
     "output_type": "execute_result"
    }
   ],
   "source": [
    "df.columns"
   ]
  },
  {
   "cell_type": "code",
   "execution_count": 48,
   "metadata": {},
   "outputs": [
    {
     "data": {
      "text/plain": [
       "(91335, 29)"
      ]
     },
     "execution_count": 48,
     "metadata": {},
     "output_type": "execute_result"
    }
   ],
   "source": [
    "df.shape"
   ]
  },
  {
   "cell_type": "code",
   "execution_count": 75,
   "metadata": {},
   "outputs": [],
   "source": [
    "df_loc = df.loc[:,[\"상권업종중분류명\",\"상권업종소분류명\",\"경도\",\"위도\",\"상호명\",\"시도명\"]]"
   ]
  },
  {
   "cell_type": "code",
   "execution_count": 76,
   "metadata": {},
   "outputs": [
    {
     "data": {
      "text/html": [
       "<div>\n",
       "<style scoped>\n",
       "    .dataframe tbody tr th:only-of-type {\n",
       "        vertical-align: middle;\n",
       "    }\n",
       "\n",
       "    .dataframe tbody tr th {\n",
       "        vertical-align: top;\n",
       "    }\n",
       "\n",
       "    .dataframe thead th {\n",
       "        text-align: right;\n",
       "    }\n",
       "</style>\n",
       "<table border=\"1\" class=\"dataframe\">\n",
       "  <thead>\n",
       "    <tr style=\"text-align: right;\">\n",
       "      <th></th>\n",
       "      <th>상권업종중분류명</th>\n",
       "      <th>상권업종소분류명</th>\n",
       "      <th>경도</th>\n",
       "      <th>위도</th>\n",
       "      <th>상호명</th>\n",
       "      <th>시도명</th>\n",
       "    </tr>\n",
       "  </thead>\n",
       "  <tbody>\n",
       "    <tr>\n",
       "      <th>0</th>\n",
       "      <td>병원</td>\n",
       "      <td>산부인과</td>\n",
       "      <td>126.814295</td>\n",
       "      <td>37.336344</td>\n",
       "      <td>하나산부인과</td>\n",
       "      <td>경기도</td>\n",
       "    </tr>\n",
       "    <tr>\n",
       "      <th>1</th>\n",
       "      <td>병원</td>\n",
       "      <td>내과/외과</td>\n",
       "      <td>127.053198</td>\n",
       "      <td>37.488742</td>\n",
       "      <td>타워광명내과의원</td>\n",
       "      <td>서울특별시</td>\n",
       "    </tr>\n",
       "    <tr>\n",
       "      <th>2</th>\n",
       "      <td>병원</td>\n",
       "      <td>신경외과</td>\n",
       "      <td>126.734841</td>\n",
       "      <td>37.344955</td>\n",
       "      <td>조정현신경외과의원</td>\n",
       "      <td>경기도</td>\n",
       "    </tr>\n",
       "    <tr>\n",
       "      <th>3</th>\n",
       "      <td>병원</td>\n",
       "      <td>기타병원</td>\n",
       "      <td>129.115438</td>\n",
       "      <td>35.166872</td>\n",
       "      <td>한귀원정신과의원</td>\n",
       "      <td>부산광역시</td>\n",
       "    </tr>\n",
       "    <tr>\n",
       "      <th>4</th>\n",
       "      <td>약국/한약방</td>\n",
       "      <td>약국</td>\n",
       "      <td>127.095522</td>\n",
       "      <td>37.323528</td>\n",
       "      <td>더블유스토어수지점</td>\n",
       "      <td>경기도</td>\n",
       "    </tr>\n",
       "    <tr>\n",
       "      <th>...</th>\n",
       "      <td>...</td>\n",
       "      <td>...</td>\n",
       "      <td>...</td>\n",
       "      <td>...</td>\n",
       "      <td>...</td>\n",
       "      <td>...</td>\n",
       "    </tr>\n",
       "    <tr>\n",
       "      <th>91330</th>\n",
       "      <td>약국/한약방</td>\n",
       "      <td>약국</td>\n",
       "      <td>127.389865</td>\n",
       "      <td>36.352728</td>\n",
       "      <td>온누리약국</td>\n",
       "      <td>대전광역시</td>\n",
       "    </tr>\n",
       "    <tr>\n",
       "      <th>91331</th>\n",
       "      <td>의료관련서비스업</td>\n",
       "      <td>산후조리원</td>\n",
       "      <td>126.830144</td>\n",
       "      <td>37.627530</td>\n",
       "      <td>리원</td>\n",
       "      <td>경기도</td>\n",
       "    </tr>\n",
       "    <tr>\n",
       "      <th>91332</th>\n",
       "      <td>병원</td>\n",
       "      <td>노인/치매병원</td>\n",
       "      <td>129.082790</td>\n",
       "      <td>35.227138</td>\n",
       "      <td>참좋은요양병원</td>\n",
       "      <td>부산광역시</td>\n",
       "    </tr>\n",
       "    <tr>\n",
       "      <th>91333</th>\n",
       "      <td>병원</td>\n",
       "      <td>한의원</td>\n",
       "      <td>127.143958</td>\n",
       "      <td>37.540993</td>\n",
       "      <td>경희중앙한의원</td>\n",
       "      <td>서울특별시</td>\n",
       "    </tr>\n",
       "    <tr>\n",
       "      <th>91334</th>\n",
       "      <td>병원</td>\n",
       "      <td>안과의원</td>\n",
       "      <td>127.152651</td>\n",
       "      <td>36.806640</td>\n",
       "      <td>천안김안과천안역본점의원</td>\n",
       "      <td>충청남도</td>\n",
       "    </tr>\n",
       "  </tbody>\n",
       "</table>\n",
       "<p>91335 rows × 6 columns</p>\n",
       "</div>"
      ],
      "text/plain": [
       "       상권업종중분류명 상권업종소분류명          경도         위도           상호명    시도명\n",
       "0            병원     산부인과  126.814295  37.336344        하나산부인과    경기도\n",
       "1            병원    내과/외과  127.053198  37.488742      타워광명내과의원  서울특별시\n",
       "2            병원     신경외과  126.734841  37.344955     조정현신경외과의원    경기도\n",
       "3            병원     기타병원  129.115438  35.166872      한귀원정신과의원  부산광역시\n",
       "4        약국/한약방       약국  127.095522  37.323528     더블유스토어수지점    경기도\n",
       "...         ...      ...         ...        ...           ...    ...\n",
       "91330    약국/한약방       약국  127.389865  36.352728         온누리약국  대전광역시\n",
       "91331  의료관련서비스업    산후조리원  126.830144  37.627530            리원    경기도\n",
       "91332        병원  노인/치매병원  129.082790  35.227138       참좋은요양병원  부산광역시\n",
       "91333        병원      한의원  127.143958  37.540993       경희중앙한의원  서울특별시\n",
       "91334        병원     안과의원  127.152651  36.806640  천안김안과천안역본점의원   충청남도\n",
       "\n",
       "[91335 rows x 6 columns]"
      ]
     },
     "execution_count": 76,
     "metadata": {},
     "output_type": "execute_result"
    }
   ],
   "source": [
    "df_loc"
   ]
  },
  {
   "cell_type": "code",
   "execution_count": 77,
   "metadata": {},
   "outputs": [
    {
     "data": {
      "text/plain": [
       "병원          60774\n",
       "약국/한약방      20923\n",
       "수의업          5323\n",
       "유사의료업        3774\n",
       "의료관련서비스업      541\n",
       "Name: 상권업종중분류명, dtype: int64"
      ]
     },
     "execution_count": 77,
     "metadata": {},
     "output_type": "execute_result"
    }
   ],
   "source": [
    "df_loc[\"상권업종중분류명\"].value_counts()"
   ]
  },
  {
   "cell_type": "code",
   "execution_count": 78,
   "metadata": {},
   "outputs": [
    {
     "data": {
      "text/plain": [
       "약국         18964\n",
       "치과의원       13731\n",
       "한의원        13211\n",
       "내과/외과      11374\n",
       "기타병원        4922\n",
       "일반병원        3385\n",
       "동물병원        3098\n",
       "정형/성형외과     2562\n",
       "소아과         2472\n",
       "수의업-종합      2216\n",
       "치과기공소       1724\n",
       "이비인후과의원     1486\n",
       "한약방         1442\n",
       "피부과         1273\n",
       "산부인과        1116\n",
       "노인/치매병원     1055\n",
       "안과의원        1042\n",
       "비뇨기과         809\n",
       "종합병원         762\n",
       "치과병원         756\n",
       "언어치료         664\n",
       "유사의료업기타      629\n",
       "탕제원          517\n",
       "산후조리원        511\n",
       "신경외과         421\n",
       "한방병원         397\n",
       "척추교정치료       338\n",
       "침구원          154\n",
       "혈액원          130\n",
       "응급구조대        125\n",
       "조산원           30\n",
       "접골원            9\n",
       "수의업-기타         9\n",
       "제대혈            1\n",
       "Name: 상권업종소분류명, dtype: int64"
      ]
     },
     "execution_count": 78,
     "metadata": {},
     "output_type": "execute_result"
    }
   ],
   "source": [
    "df_loc[\"상권업종소분류명\"].value_counts()"
   ]
  },
  {
   "cell_type": "code",
   "execution_count": 79,
   "metadata": {},
   "outputs": [],
   "source": [
    "df_grand = df_loc[df_loc[\"상권업종소분류명\"] == \"노인/치매병원\"]"
   ]
  },
  {
   "cell_type": "code",
   "execution_count": 80,
   "metadata": {},
   "outputs": [
    {
     "data": {
      "text/html": [
       "<div>\n",
       "<style scoped>\n",
       "    .dataframe tbody tr th:only-of-type {\n",
       "        vertical-align: middle;\n",
       "    }\n",
       "\n",
       "    .dataframe tbody tr th {\n",
       "        vertical-align: top;\n",
       "    }\n",
       "\n",
       "    .dataframe thead th {\n",
       "        text-align: right;\n",
       "    }\n",
       "</style>\n",
       "<table border=\"1\" class=\"dataframe\">\n",
       "  <thead>\n",
       "    <tr style=\"text-align: right;\">\n",
       "      <th></th>\n",
       "      <th>상권업종중분류명</th>\n",
       "      <th>상권업종소분류명</th>\n",
       "      <th>경도</th>\n",
       "      <th>위도</th>\n",
       "      <th>상호명</th>\n",
       "      <th>시도명</th>\n",
       "    </tr>\n",
       "  </thead>\n",
       "  <tbody>\n",
       "    <tr>\n",
       "      <th>21</th>\n",
       "      <td>병원</td>\n",
       "      <td>노인/치매병원</td>\n",
       "      <td>129.040773</td>\n",
       "      <td>35.209154</td>\n",
       "      <td>다사랑요양병원</td>\n",
       "      <td>부산광역시</td>\n",
       "    </tr>\n",
       "    <tr>\n",
       "      <th>62</th>\n",
       "      <td>병원</td>\n",
       "      <td>노인/치매병원</td>\n",
       "      <td>127.746981</td>\n",
       "      <td>34.986585</td>\n",
       "      <td>노경회</td>\n",
       "      <td>전라남도</td>\n",
       "    </tr>\n",
       "    <tr>\n",
       "      <th>69</th>\n",
       "      <td>병원</td>\n",
       "      <td>노인/치매병원</td>\n",
       "      <td>126.780122</td>\n",
       "      <td>37.693689</td>\n",
       "      <td>일산카네이션너싱홈</td>\n",
       "      <td>경기도</td>\n",
       "    </tr>\n",
       "    <tr>\n",
       "      <th>79</th>\n",
       "      <td>병원</td>\n",
       "      <td>노인/치매병원</td>\n",
       "      <td>127.460606</td>\n",
       "      <td>34.991014</td>\n",
       "      <td>은성복지회</td>\n",
       "      <td>전라남도</td>\n",
       "    </tr>\n",
       "    <tr>\n",
       "      <th>107</th>\n",
       "      <td>병원</td>\n",
       "      <td>노인/치매병원</td>\n",
       "      <td>128.295524</td>\n",
       "      <td>36.365132</td>\n",
       "      <td>하은실버홈</td>\n",
       "      <td>경상북도</td>\n",
       "    </tr>\n",
       "    <tr>\n",
       "      <th>...</th>\n",
       "      <td>...</td>\n",
       "      <td>...</td>\n",
       "      <td>...</td>\n",
       "      <td>...</td>\n",
       "      <td>...</td>\n",
       "      <td>...</td>\n",
       "    </tr>\n",
       "    <tr>\n",
       "      <th>91184</th>\n",
       "      <td>병원</td>\n",
       "      <td>노인/치매병원</td>\n",
       "      <td>129.035645</td>\n",
       "      <td>35.343927</td>\n",
       "      <td>유성재단유성요양병원</td>\n",
       "      <td>경상남도</td>\n",
       "    </tr>\n",
       "    <tr>\n",
       "      <th>91216</th>\n",
       "      <td>병원</td>\n",
       "      <td>노인/치매병원</td>\n",
       "      <td>126.973450</td>\n",
       "      <td>35.946242</td>\n",
       "      <td>실로암요양병원매점</td>\n",
       "      <td>전라북도</td>\n",
       "    </tr>\n",
       "    <tr>\n",
       "      <th>91253</th>\n",
       "      <td>병원</td>\n",
       "      <td>노인/치매병원</td>\n",
       "      <td>126.907230</td>\n",
       "      <td>35.186972</td>\n",
       "      <td>한사랑요양병원</td>\n",
       "      <td>광주광역시</td>\n",
       "    </tr>\n",
       "    <tr>\n",
       "      <th>91328</th>\n",
       "      <td>병원</td>\n",
       "      <td>노인/치매병원</td>\n",
       "      <td>127.083401</td>\n",
       "      <td>36.768332</td>\n",
       "      <td>서울플러스</td>\n",
       "      <td>충청남도</td>\n",
       "    </tr>\n",
       "    <tr>\n",
       "      <th>91332</th>\n",
       "      <td>병원</td>\n",
       "      <td>노인/치매병원</td>\n",
       "      <td>129.082790</td>\n",
       "      <td>35.227138</td>\n",
       "      <td>참좋은요양병원</td>\n",
       "      <td>부산광역시</td>\n",
       "    </tr>\n",
       "  </tbody>\n",
       "</table>\n",
       "<p>1055 rows × 6 columns</p>\n",
       "</div>"
      ],
      "text/plain": [
       "      상권업종중분류명 상권업종소분류명          경도         위도         상호명    시도명\n",
       "21          병원  노인/치매병원  129.040773  35.209154     다사랑요양병원  부산광역시\n",
       "62          병원  노인/치매병원  127.746981  34.986585         노경회   전라남도\n",
       "69          병원  노인/치매병원  126.780122  37.693689   일산카네이션너싱홈    경기도\n",
       "79          병원  노인/치매병원  127.460606  34.991014       은성복지회   전라남도\n",
       "107         병원  노인/치매병원  128.295524  36.365132       하은실버홈   경상북도\n",
       "...        ...      ...         ...        ...         ...    ...\n",
       "91184       병원  노인/치매병원  129.035645  35.343927  유성재단유성요양병원   경상남도\n",
       "91216       병원  노인/치매병원  126.973450  35.946242   실로암요양병원매점   전라북도\n",
       "91253       병원  노인/치매병원  126.907230  35.186972     한사랑요양병원  광주광역시\n",
       "91328       병원  노인/치매병원  127.083401  36.768332       서울플러스   충청남도\n",
       "91332       병원  노인/치매병원  129.082790  35.227138     참좋은요양병원  부산광역시\n",
       "\n",
       "[1055 rows x 6 columns]"
      ]
     },
     "execution_count": 80,
     "metadata": {},
     "output_type": "execute_result"
    }
   ],
   "source": [
    "df_grand"
   ]
  },
  {
   "cell_type": "code",
   "execution_count": 81,
   "metadata": {},
   "outputs": [
    {
     "data": {
      "text/plain": [
       "상권업종중분류명    0\n",
       "상권업종소분류명    0\n",
       "경도          0\n",
       "위도          0\n",
       "상호명         0\n",
       "시도명         4\n",
       "dtype: int64"
      ]
     },
     "execution_count": 81,
     "metadata": {},
     "output_type": "execute_result"
    }
   ],
   "source": [
    "df_grand.isnull().sum()"
   ]
  },
  {
   "cell_type": "code",
   "execution_count": 82,
   "metadata": {},
   "outputs": [],
   "source": [
    "import folium"
   ]
  },
  {
   "cell_type": "code",
   "execution_count": 88,
   "metadata": {},
   "outputs": [
    {
     "data": {
      "text/html": [
       "<div style=\"width:100%;\"><div style=\"position:relative;width:100%;height:0;padding-bottom:60%;\"><iframe src=\"about:blank\" style=\"position:absolute;width:100%;height:100%;left:0;top:0;border:none !important;\" data-html=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 onload=\"this.contentDocument.open();this.contentDocument.write(atob(this.getAttribute('data-html')));this.contentDocument.close();\" allowfullscreen webkitallowfullscreen mozallowfullscreen></iframe></div></div>"
      ],
      "text/plain": [
       "<folium.folium.Map at 0x2b0c042e808>"
      ]
     },
     "execution_count": 88,
     "metadata": {},
     "output_type": "execute_result"
    }
   ],
   "source": [
    "df_grand_seoul = df_grand[df_grand[\"시도명\"] == \"서울특별시\"]\n",
    "map = folium.Map(location = [df_grand_seoul[\"위도\"].mean(),df_grand_seoul[\"경도\"].mean()],zoom_start = 12)\n",
    "for n in df_grand_seoul.index:\n",
    "    name = df_grand_seoul.loc[n,\"상호명\"]\n",
    "    location = [df_grand_seoul.loc[n,\"위도\"],df_grand_seoul.loc[n,\"경도\"]]\n",
    "    folium.Marker(\n",
    "        location=location,\n",
    "        popup = name,\n",
    "    ).add_to(map)\n",
    "map"
   ]
  },
  {
   "cell_type": "code",
   "execution_count": 89,
   "metadata": {},
   "outputs": [
    {
     "data": {
      "text/plain": [
       "<matplotlib.axes._subplots.AxesSubplot at 0x2b0c05f1088>"
      ]
     },
     "execution_count": 89,
     "metadata": {},
     "output_type": "execute_result"
    },
    {
     "data": {
      "image/png": "[encoded data removed]",
      "text/plain": [
       "<Figure size 720x720 with 1 Axes>"
      ]
     },
     "metadata": {
      "image/png": {
       "height": 575,
       "width": 649
      },
      "needs_background": "light"
     },
     "output_type": "display_data"
    }
   ],
   "source": [
    "df_grand[\"시도명\"].value_counts().plot.barh(figsize=(10,10))"
   ]
  },
  {
   "cell_type": "code",
   "execution_count": null,
   "metadata": {},
   "outputs": [],
   "source": []
  }
 ],
 "metadata": {
  "kernelspec": {
   "display_name": "Python 3",
   "language": "python",
   "name": "python3"
  },
  "language_info": {
   "codemirror_mode": {
    "name": "ipython",
    "version": 3
   },
   "file_extension": ".py",
   "mimetype": "text/x-python",
   "name": "python",
   "nbconvert_exporter": "python",
   "pygments_lexer": "ipython3",
   "version": "3.7.6"
  }
 },
 "nbformat": 4,
 "nbformat_minor": 4
}
