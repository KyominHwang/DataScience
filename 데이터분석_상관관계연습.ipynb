{
 "cells": [
  {
   "cell_type": "code",
   "execution_count": 1,
   "metadata": {},
   "outputs": [],
   "source": [
    "#온도와 습도의 상관관계 알아보기"
   ]
  },
  {
   "cell_type": "code",
   "execution_count": 2,
   "metadata": {},
   "outputs": [],
   "source": [
    "import numpy as np\n",
    "import pandas as pd\n",
    "import matplotlib.pyplot as plt\n",
    "import seaborn as sns\n",
    "%matplotlib inline"
   ]
  },
  {
   "cell_type": "code",
   "execution_count": 3,
   "metadata": {},
   "outputs": [],
   "source": [
    "plt.rc(\"font\",family=\"Malgun Gothic\")"
   ]
  },
  {
   "cell_type": "code",
   "execution_count": 4,
   "metadata": {},
   "outputs": [],
   "source": [
    "plt.rc(\"axes\",unicode_minus=False)"
   ]
  },
  {
   "cell_type": "code",
   "execution_count": 5,
   "metadata": {},
   "outputs": [],
   "source": [
    "%config InlineBackend.figure_format = \"retina\""
   ]
  },
  {
   "cell_type": "code",
   "execution_count": 45,
   "metadata": {},
   "outputs": [],
   "source": [
    "df = pd.read_csv(\"한국동서발전 주변 기상 현황 정보(2018).csv\",encoding=\"cp949\")"
   ]
  },
  {
   "cell_type": "code",
   "execution_count": 46,
   "metadata": {},
   "outputs": [
    {
     "data": {
      "text/plain": [
       "(1577, 9)"
      ]
     },
     "execution_count": 46,
     "metadata": {},
     "output_type": "execute_result"
    }
   ],
   "source": [
    "df.shape"
   ]
  },
  {
   "cell_type": "code",
   "execution_count": 47,
   "metadata": {},
   "outputs": [
    {
     "data": {
      "text/plain": [
       "Index(['사업소', '사업소코드', '계측일자', '계측시간', '온도(℃)', '습도(%)', '기압(hPa)', '풍향',\n",
       "       '풍속(m/s)'],\n",
       "      dtype='object')"
      ]
     },
     "execution_count": 47,
     "metadata": {},
     "output_type": "execute_result"
    }
   ],
   "source": [
    "df.columns"
   ]
  },
  {
   "cell_type": "code",
   "execution_count": 48,
   "metadata": {},
   "outputs": [
    {
     "data": {
      "text/html": [
       "<div>\n",
       "<style scoped>\n",
       "    .dataframe tbody tr th:only-of-type {\n",
       "        vertical-align: middle;\n",
       "    }\n",
       "\n",
       "    .dataframe tbody tr th {\n",
       "        vertical-align: top;\n",
       "    }\n",
       "\n",
       "    .dataframe thead th {\n",
       "        text-align: right;\n",
       "    }\n",
       "</style>\n",
       "<table border=\"1\" class=\"dataframe\">\n",
       "  <thead>\n",
       "    <tr style=\"text-align: right;\">\n",
       "      <th></th>\n",
       "      <th>사업소</th>\n",
       "      <th>사업소코드</th>\n",
       "      <th>계측일자</th>\n",
       "      <th>계측시간</th>\n",
       "      <th>온도(℃)</th>\n",
       "      <th>습도(%)</th>\n",
       "      <th>기압(hPa)</th>\n",
       "      <th>풍향</th>\n",
       "      <th>풍속(m/s)</th>\n",
       "    </tr>\n",
       "  </thead>\n",
       "  <tbody>\n",
       "    <tr>\n",
       "      <th>0</th>\n",
       "      <td>당진화력</td>\n",
       "      <td>8630</td>\n",
       "      <td>2018-01-01</td>\n",
       "      <td>00:00:00</td>\n",
       "      <td>0.60</td>\n",
       "      <td>50.44</td>\n",
       "      <td>1,024.30</td>\n",
       "      <td>북</td>\n",
       "      <td>2.14</td>\n",
       "    </tr>\n",
       "    <tr>\n",
       "      <th>1</th>\n",
       "      <td>당진화력</td>\n",
       "      <td>8630</td>\n",
       "      <td>2018-01-02</td>\n",
       "      <td>00:00:00</td>\n",
       "      <td>-0.93</td>\n",
       "      <td>72.67</td>\n",
       "      <td>1,026.50</td>\n",
       "      <td>남서</td>\n",
       "      <td>2.64</td>\n",
       "    </tr>\n",
       "    <tr>\n",
       "      <th>2</th>\n",
       "      <td>당진화력</td>\n",
       "      <td>8630</td>\n",
       "      <td>2018-01-03</td>\n",
       "      <td>00:00:00</td>\n",
       "      <td>-2.87</td>\n",
       "      <td>54.10</td>\n",
       "      <td>1,028.30</td>\n",
       "      <td>북</td>\n",
       "      <td>4.12</td>\n",
       "    </tr>\n",
       "  </tbody>\n",
       "</table>\n",
       "</div>"
      ],
      "text/plain": [
       "    사업소  사업소코드        계측일자      계측시간  온도(℃)  습도(%)   기압(hPa)  풍향  풍속(m/s)\n",
       "0  당진화력   8630  2018-01-01  00:00:00   0.60  50.44  1,024.30   북     2.14\n",
       "1  당진화력   8630  2018-01-02  00:00:00  -0.93  72.67  1,026.50  남서     2.64\n",
       "2  당진화력   8630  2018-01-03  00:00:00  -2.87  54.10  1,028.30   북     4.12"
      ]
     },
     "execution_count": 48,
     "metadata": {},
     "output_type": "execute_result"
    }
   ],
   "source": [
    "df.head(3)"
   ]
  },
  {
   "cell_type": "code",
   "execution_count": 50,
   "metadata": {},
   "outputs": [
    {
     "data": {
      "text/plain": [
       "사업소        0\n",
       "사업소코드      0\n",
       "계측일자       0\n",
       "계측시간       0\n",
       "온도(℃)      0\n",
       "습도(%)      0\n",
       "기압(hPa)    0\n",
       "풍향         0\n",
       "풍속(m/s)    0\n",
       "dtype: int64"
      ]
     },
     "execution_count": 50,
     "metadata": {},
     "output_type": "execute_result"
    }
   ],
   "source": [
    "df.isnull().sum()"
   ]
  },
  {
   "cell_type": "code",
   "execution_count": 51,
   "metadata": {},
   "outputs": [],
   "source": [
    "df_corr = df.corr()"
   ]
  },
  {
   "cell_type": "code",
   "execution_count": 52,
   "metadata": {},
   "outputs": [
    {
     "data": {
      "text/html": [
       "<div>\n",
       "<style scoped>\n",
       "    .dataframe tbody tr th:only-of-type {\n",
       "        vertical-align: middle;\n",
       "    }\n",
       "\n",
       "    .dataframe tbody tr th {\n",
       "        vertical-align: top;\n",
       "    }\n",
       "\n",
       "    .dataframe thead th {\n",
       "        text-align: right;\n",
       "    }\n",
       "</style>\n",
       "<table border=\"1\" class=\"dataframe\">\n",
       "  <thead>\n",
       "    <tr style=\"text-align: right;\">\n",
       "      <th></th>\n",
       "      <th>사업소코드</th>\n",
       "      <th>온도(℃)</th>\n",
       "      <th>습도(%)</th>\n",
       "      <th>풍속(m/s)</th>\n",
       "    </tr>\n",
       "  </thead>\n",
       "  <tbody>\n",
       "    <tr>\n",
       "      <th>사업소코드</th>\n",
       "      <td>1.000000</td>\n",
       "      <td>-0.117677</td>\n",
       "      <td>-0.330927</td>\n",
       "      <td>-0.200975</td>\n",
       "    </tr>\n",
       "    <tr>\n",
       "      <th>온도(℃)</th>\n",
       "      <td>-0.117677</td>\n",
       "      <td>1.000000</td>\n",
       "      <td>0.309079</td>\n",
       "      <td>-0.109496</td>\n",
       "    </tr>\n",
       "    <tr>\n",
       "      <th>습도(%)</th>\n",
       "      <td>-0.330927</td>\n",
       "      <td>0.309079</td>\n",
       "      <td>1.000000</td>\n",
       "      <td>-0.021991</td>\n",
       "    </tr>\n",
       "    <tr>\n",
       "      <th>풍속(m/s)</th>\n",
       "      <td>-0.200975</td>\n",
       "      <td>-0.109496</td>\n",
       "      <td>-0.021991</td>\n",
       "      <td>1.000000</td>\n",
       "    </tr>\n",
       "  </tbody>\n",
       "</table>\n",
       "</div>"
      ],
      "text/plain": [
       "            사업소코드     온도(℃)     습도(%)   풍속(m/s)\n",
       "사업소코드    1.000000 -0.117677 -0.330927 -0.200975\n",
       "온도(℃)   -0.117677  1.000000  0.309079 -0.109496\n",
       "습도(%)   -0.330927  0.309079  1.000000 -0.021991\n",
       "풍속(m/s) -0.200975 -0.109496 -0.021991  1.000000"
      ]
     },
     "execution_count": 52,
     "metadata": {},
     "output_type": "execute_result"
    }
   ],
   "source": [
    "df_corr"
   ]
  },
  {
   "cell_type": "code",
   "execution_count": 54,
   "metadata": {},
   "outputs": [
    {
     "data": {
      "text/plain": [
       "온도(℃)      1.000000\n",
       "습도(%)      0.309079\n",
       "풍속(m/s)   -0.109496\n",
       "사업소코드     -0.117677\n",
       "Name: 온도(℃), dtype: float64"
      ]
     },
     "execution_count": 54,
     "metadata": {},
     "output_type": "execute_result"
    }
   ],
   "source": [
    "df_corr[\"온도(℃)\"].sort_values(ascending=False)"
   ]
  },
  {
   "cell_type": "code",
   "execution_count": 56,
   "metadata": {},
   "outputs": [
    {
     "data": {
      "text/plain": [
       "<matplotlib.axes._subplots.AxesSubplot at 0x190f9902e88>"
      ]
     },
     "execution_count": 56,
     "metadata": {},
     "output_type": "execute_result"
    },
    {
     "data": {
      "image/png": "[encoded data removed]",
      "text/plain": [
       "<Figure size 720x720 with 2 Axes>"
      ]
     },
     "metadata": {
      "image/png": {
       "height": 579,
       "width": 557
      },
      "needs_background": "light"
     },
     "output_type": "display_data"
    }
   ],
   "source": [
    "plt.figure(figsize=(10,10))\n",
    "sns.heatmap(df_corr,annot=True,fmt=\".2f\",cmap=\"Blues\")"
   ]
  },
  {
   "cell_type": "code",
   "execution_count": 57,
   "metadata": {},
   "outputs": [],
   "source": [
    "#결론 습도와 온도는 피어슨상관관계 0.31정도 이므로 뚜렷한 상관관계가 있다고 볼 수 있다. -> 인과관계는 설명해주지 않는다."
   ]
  },
  {
   "cell_type": "code",
   "execution_count": null,
   "metadata": {},
   "outputs": [],
   "source": []
  }
 ],
 "metadata": {
  "kernelspec": {
   "display_name": "Python 3",
   "language": "python",
   "name": "python3"
  },
  "language_info": {
   "codemirror_mode": {
    "name": "ipython",
    "version": 3
   },
   "file_extension": ".py",
   "mimetype": "text/x-python",
   "name": "python",
   "nbconvert_exporter": "python",
   "pygments_lexer": "ipython3",
   "version": "3.7.6"
  }
 },
 "nbformat": 4,
 "nbformat_minor": 4
}
