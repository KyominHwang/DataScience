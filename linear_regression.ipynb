{
 "cells": [
  {
   "cell_type": "code",
   "execution_count": 1,
   "metadata": {},
   "outputs": [
    {
     "name": "stderr",
     "output_type": "stream",
     "text": [
      "C:\\Users\\piter\\AppData\\Roaming\\Python\\Python37\\site-packages\\numpy\\_distributor_init.py:32: UserWarning: loaded more than 1 DLL from .libs:\n",
      "C:\\Users\\piter\\AppData\\Roaming\\Python\\Python37\\site-packages\\numpy\\.libs\\libopenblas.NOIJJG62EMASZI6NYURL6JBKM4EVBGM7.gfortran-win_amd64.dll\n",
      "C:\\Users\\piter\\AppData\\Roaming\\Python\\Python37\\site-packages\\numpy\\.libs\\libopenblas.PYQHXLVVQ7VESDPUVUADXEVJOBGHJPAY.gfortran-win_amd64.dll\n",
      "  stacklevel=1)\n"
     ]
    }
   ],
   "source": [
    "import torch"
   ]
  },
  {
   "cell_type": "code",
   "execution_count": 10,
   "metadata": {},
   "outputs": [],
   "source": [
    "x_train = torch.FloatTensor([[1,2],[3,2],[3,7],[1,1],[1,0]])\n",
    "y_train = torch.FloatTensor([[4],[8],[23],[1],[-2]])"
   ]
  },
  {
   "cell_type": "code",
   "execution_count": 11,
   "metadata": {},
   "outputs": [],
   "source": [
    "W = torch.zeros(2,1)\n",
    "b = torch.zeros(1,1)\n",
    "\n",
    "lr = 0.01"
   ]
  },
  {
   "cell_type": "code",
   "execution_count": 12,
   "metadata": {},
   "outputs": [
    {
     "data": {
      "text/plain": [
       "torch.Size([5, 2])"
      ]
     },
     "execution_count": 12,
     "metadata": {},
     "output_type": "execute_result"
    }
   ],
   "source": [
    "x_train.shape"
   ]
  },
  {
   "cell_type": "code",
   "execution_count": 14,
   "metadata": {},
   "outputs": [
    {
     "name": "stderr",
     "output_type": "stream",
     "text": [
      "C:\\Users\\piter\\.conda\\envs\\pytorch_p37\\lib\\site-packages\\torch\\autograd\\__init__.py:132: UserWarning: CUDA initialization: Found no NVIDIA driver on your system. Please check that you have an NVIDIA GPU and installed a driver from http://www.nvidia.com/Download/index.aspx (Triggered internally at  ..\\c10\\cuda\\CUDAFunctions.cpp:100.)\n",
      "  allow_unreachable=True)  # allow_unreachable flag\n"
     ]
    },
    {
     "name": "stdout",
     "output_type": "stream",
     "text": [
      "epoch 0, cost 122.800003 W : tensor([0.3840, 0.7440]), b : tensor([[0.1360]])\n",
      "epoch 100, cost 1.533757 W : tensor([0.6226, 3.1603]), b : tensor([[-1.3651]])\n",
      "epoch 200, cost 0.758241 W : tensor([0.9143, 3.1864]), b : tensor([[-2.1790]])\n",
      "epoch 300, cost 0.389288 W : tensor([1.2106, 3.1417]), b : tensor([[-2.7023]])\n",
      "epoch 400, cost 0.200058 W : tensor([1.4328, 3.1025]), b : tensor([[-3.0705]])\n",
      "epoch 500, cost 0.102813 W : tensor([1.5932, 3.0736]), b : tensor([[-3.3338]])\n",
      "epoch 600, cost 0.052838 W : tensor([1.7084, 3.0528]), b : tensor([[-3.5224]])\n",
      "epoch 700, cost 0.027154 W : tensor([1.7909, 3.0378]), b : tensor([[-3.6576]])\n",
      "epoch 800, cost 0.013955 W : tensor([1.8501, 3.0271]), b : tensor([[-3.7546]])\n",
      "epoch 900, cost 0.007172 W : tensor([1.8926, 3.0194]), b : tensor([[-3.8241]])\n",
      "epoch 1000, cost 0.003686 W : tensor([1.9230, 3.0139]), b : tensor([[-3.8739]])\n"
     ]
    }
   ],
   "source": [
    "for epoch in range(1001):\n",
    "    W.requires_grad_(True)\n",
    "    b.requires_grad_(True)\n",
    "    \n",
    "    hypothesis = torch.mm(x_train, W) + b\n",
    "    cost = torch.mean((hypothesis - y_train) ** 2)\n",
    "    \n",
    "    cost.backward()\n",
    "    with torch.no_grad() as grd:\n",
    "        W = W - lr * W.grad\n",
    "        b = b - lr * b.grad\n",
    "        \n",
    "    if epoch % 100 == 0:\n",
    "        print(\"epoch {}, cost {:.6f} W : {}, b : {}\".format(epoch, cost.item(), W.squeeze(), b))"
   ]
  },
  {
   "cell_type": "code",
   "execution_count": 20,
   "metadata": {},
   "outputs": [],
   "source": [
    "x_test = torch.FloatTensor([[5,10]])"
   ]
  },
  {
   "cell_type": "code",
   "execution_count": 24,
   "metadata": {},
   "outputs": [],
   "source": [
    "test_res = torch.mm(x_test, W) + b"
   ]
  },
  {
   "cell_type": "code",
   "execution_count": 26,
   "metadata": {},
   "outputs": [
    {
     "data": {
      "text/plain": [
       "35.88044357299805"
      ]
     },
     "execution_count": 26,
     "metadata": {},
     "output_type": "execute_result"
    }
   ],
   "source": [
    "test_res.item()"
   ]
  },
  {
   "cell_type": "code",
   "execution_count": null,
   "metadata": {},
   "outputs": [],
   "source": []
  }
 ],
 "metadata": {
  "kernelspec": {
   "display_name": "Python 3",
   "language": "python",
   "name": "python3"
  },
  "language_info": {
   "codemirror_mode": {
    "name": "ipython",
    "version": 3
   },
   "file_extension": ".py",
   "mimetype": "text/x-python",
   "name": "python",
   "nbconvert_exporter": "python",
   "pygments_lexer": "ipython3",
   "version": "3.7.9"
  }
 },
 "nbformat": 4,
 "nbformat_minor": 4
}
